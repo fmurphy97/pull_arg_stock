{
 "cells": [
  {
   "cell_type": "code",
   "execution_count": null,
   "outputs": [],
   "source": [
    "import pandas as pd\n",
    "\n",
    "from token import Token\n",
    "from titlequery import TitleQuery"
   ],
   "metadata": {
    "collapsed": false,
    "pycharm": {
     "name": "#%%\n",
     "is_executing": true
    }
   }
  },
  {
   "cell_type": "code",
   "execution_count": null,
   "outputs": [],
   "source": [
    "# Create token and title query instances\n",
    "token = Token()\n",
    "title_query = TitleQuery(token)"
   ],
   "metadata": {
    "collapsed": false,
    "pycharm": {
     "name": "#%%\n"
    }
   }
  },
  {
   "cell_type": "code",
   "execution_count": null,
   "outputs": [],
   "source": [
    "# Query any instrument\n",
    "queried_data = title_query.get_instrument_data(instrument_type=\"cedears\", country=\"argentina\")"
   ],
   "metadata": {
    "collapsed": false,
    "pycharm": {
     "name": "#%%\n"
    }
   }
  },
  {
   "cell_type": "code",
   "execution_count": null,
   "outputs": [],
   "source": [
    "# Get it into a df\n",
    "queried_df = pd.DataFrame(queried_data['titulos'])"
   ],
   "metadata": {
    "collapsed": false,
    "pycharm": {
     "name": "#%%\n"
    }
   }
  },
  {
   "cell_type": "code",
   "execution_count": null,
   "outputs": [],
   "source": [
    "# Expand the puntas column\n",
    "queried_df[[key for key in queried_df['puntas'].iloc[0].keys()]] = queried_df['puntas'].apply(lambda x: pd.Series(x))\n",
    "queried_df.head(2)"
   ],
   "metadata": {
    "collapsed": false,
    "pycharm": {
     "name": "#%%\n"
    }
   }
  },
  {
   "cell_type": "code",
   "execution_count": null,
   "outputs": [],
   "source": [
    "queried_df = queried_df[['simbolo', 'ultimoPrecio', 'volumen', 'moneda', 'descripcion', 'plazo', 'precioVenta', 'precioCompra', 'cantidadCompra', 'cantidadVenta']].copy()\n",
    "queried_df.head(2)"
   ],
   "metadata": {
    "collapsed": false,
    "pycharm": {
     "name": "#%%\n"
    }
   }
  },
  {
   "cell_type": "code",
   "execution_count": null,
   "outputs": [],
   "source": [
    "# Create a df with the species in ARS\n",
    "df_pesos = queried_df[queried_df['moneda'] == \"1\"].copy()\n",
    "\n",
    "# Filter the species in dollars in dollar D (not cable)\n",
    "letter = \"D\"\n",
    "df_dolares = queried_df[(queried_df['moneda'] == \"2\") & (queried_df['simbolo'].str.endswith(letter))].copy()"
   ],
   "metadata": {
    "collapsed": false,
    "pycharm": {
     "name": "#%%\n"
    }
   }
  },
  {
   "cell_type": "code",
   "execution_count": null,
   "outputs": [],
   "source": [
    "# Join the dfs in ARS ans USD\n",
    "\n",
    "# Add the name of the species in dollars to be able to join back into them\n",
    " # at one point it would be good to have the actual names of the species in dollars, because maybe they are different as the species name in pesos with a D in the end\n",
    "df_pesos.loc[:,f'simbolo_{letter}'] = df_pesos[\"simbolo\"] + letter\n",
    "\n",
    "# Join them\n",
    "df_pesos_and_dollars = pd.merge(df_pesos, df_dolares, left_on='simbolo_D', right_on=\"simbolo\" ,how='left', suffixes=('', '_D'))"
   ],
   "metadata": {
    "collapsed": false,
    "pycharm": {
     "name": "#%%\n"
    }
   }
  },
  {
   "cell_type": "code",
   "execution_count": null,
   "outputs": [],
   "source": [
    "# Calculate the new columns MEP\n",
    "df_pesos_and_dollars.loc[:, 'MEP'] = df_pesos_and_dollars['ultimoPrecio'] / df_pesos_and_dollars['ultimoPrecio_D']\n",
    "df_pesos_and_dollars.loc[:, \"MEP_venta_D\"] = df_pesos_and_dollars[\"precioCompra\"] / df_pesos_and_dollars[\"precioVenta_D\"]\n",
    "df_pesos_and_dollars.loc[:, \"MEP_compra_P\"] = df_pesos_and_dollars[\"precioVenta\"] / df_pesos_and_dollars[\"precioCompra_D\"]"
   ],
   "metadata": {
    "collapsed": false,
    "pycharm": {
     "name": "#%%\n"
    }
   }
  },
  {
   "cell_type": "code",
   "execution_count": null,
   "outputs": [],
   "source": [
    "final_filter_volume = df_pesos_and_dollars[(df_pesos_and_dollars.volumen > 1000) & (df_pesos_and_dollars.volumen_D > 100)]\n",
    "final_filter_volume.sort_values(by=\"MEP\", ascending=False)"
   ],
   "metadata": {
    "collapsed": false,
    "pycharm": {
     "name": "#%%\n"
    }
   }
  },
  {
   "cell_type": "code",
   "execution_count": null,
   "outputs": [],
   "source": [
    "cols = [\"simbolo\",\"descripcion\",\"volumen\",\"ultimoPrecio\", \"precioVenta\",\"precioCompra\",\"cantidadCompra\",\"cantidadVenta\",\"volumen_D\", \"ultimoPrecio_D\", \"precioVenta_D\",\"precioCompra_D\",\"cantidadCompra_D\",\"cantidadVenta_D\",\"MEP\", \"MEP_venta_D\", \"MEP_compra_P\"]\n",
    "final_filter_volume[cols].to_csv(\"data/outputs/cedear_data_iol.csv\", index=False)"
   ],
   "metadata": {
    "collapsed": false,
    "pycharm": {
     "name": "#%%\n"
    }
   }
  }
 ],
 "metadata": {
  "kernelspec": {
   "display_name": "Python 3",
   "language": "python",
   "name": "python3"
  },
  "language_info": {
   "codemirror_mode": {
    "name": "ipython",
    "version": 2
   },
   "file_extension": ".py",
   "mimetype": "text/x-python",
   "name": "python",
   "nbconvert_exporter": "python",
   "pygments_lexer": "ipython2",
   "version": "2.7.6"
  }
 },
 "nbformat": 4,
 "nbformat_minor": 0
}