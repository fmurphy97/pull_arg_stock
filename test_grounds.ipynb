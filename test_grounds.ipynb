{
 "cells": [
  {
   "cell_type": "code",
   "execution_count": 2,
   "outputs": [],
   "source": [
    "import pandas as pd\n",
    "import numpy as np\n",
    "\n",
    "from controllers.token import Token\n",
    "from controllers.titlequery import TitleQuery"
   ],
   "metadata": {
    "collapsed": false,
    "pycharm": {
     "name": "#%%\n"
    }
   }
  },
  {
   "cell_type": "code",
   "execution_count": 3,
   "outputs": [],
   "source": [
    "token = Token()"
   ],
   "metadata": {
    "collapsed": false,
    "pycharm": {
     "name": "#%%\n"
    }
   }
  },
  {
   "cell_type": "code",
   "execution_count": 6,
   "outputs": [
    {
     "data": {
      "text/plain": "'g-jSOa2OZX9OgW5eCrtw_ZRGN3e4px0iQoR_x2egPsrNm8NnaY84OJ2id5FE50vCxnIfCOWDDkIejZ7h7glNPXzPxJ9HdbfwJJlhU3X0Xd7M9ackvU_LXPqELcTxd68iooH2sGYk0TKregqaRHc2prvNwENDxXnxTbcjIsELE0P4kf56bzunBit_v_-X6iA-SD0zVRoaweYP5D0rTncQoJL8UONCIbmj03iNuP-eQ6qiabF2vWDegn7mBiV2dKI_bI7poQtjJtFgm3WNxvMxucP6obBHQn5_6L90PgM3DYA5R6reaC7Ebh6OCBQtL9ms1vCNp0YBumjm40-FFit-4Ipuy0wi1lzXe56p1OBgPT_PB-eKvFEFYecIRZlYsx0rC8cIRZl5n6oMIY94kx37bcGqr5TarwoycHe9db2LI5k'"
     },
     "execution_count": 6,
     "metadata": {},
     "output_type": "execute_result"
    }
   ],
   "source": [
    "token.get_token()\n"
   ],
   "metadata": {
    "collapsed": false,
    "pycharm": {
     "name": "#%%\n"
    }
   }
  },
  {
   "cell_type": "code",
   "execution_count": null,
   "outputs": [],
   "source": [
    "title_query = TitleQuery(token)"
   ],
   "metadata": {
    "collapsed": false,
    "pycharm": {
     "name": "#%%\n"
    }
   }
  },
  {
   "cell_type": "code",
   "execution_count": null,
   "outputs": [],
   "source": [
    "queried_data = title_query.get_instrument_data(instrument_type=\"cedears\", country=\"argentina\")"
   ],
   "metadata": {
    "collapsed": false,
    "pycharm": {
     "name": "#%%\n"
    }
   }
  },
  {
   "cell_type": "code",
   "execution_count": 139,
   "outputs": [],
   "source": [
    "queried_df = pd.DataFrame(queried_data['titulos'])"
   ],
   "metadata": {
    "collapsed": false,
    "pycharm": {
     "name": "#%%\n"
    }
   }
  },
  {
   "cell_type": "code",
   "execution_count": 140,
   "outputs": [
    {
     "data": {
      "text/plain": "  simbolo                                             puntas  ultimoPrecio  \\\n0     AAL  {'cantidadCompra': 2.0, 'precioCompra': 4880.5...        4929.5   \n1    AALD  {'cantidadCompra': 50.0, 'precioCompra': 6.9, ...           7.3   \n\n   variacionPorcentual  apertura  maximo   minimo  ultimoCierre  volumen  \\\n0                 1.18   4900.00  4998.5  4805.00        4929.5   3668.0   \n1                 3.98      7.02     7.3     7.02           7.3     71.0   \n\n   cantidadOperaciones  ... mercado moneda                   descripcion  \\\n0                322.0  ...       1      1  AMERICAN AIRLINES GROUP INC.   \n1                  4.0  ...       1      2  American Airlines Group Inc.   \n\n  plazo laminaMinima lote cantidadCompra precioCompra  precioVenta  \\\n0    T2            1    1            2.0       4880.5       4924.5   \n1    T2            1    1           50.0          6.9          7.4   \n\n   cantidadVenta  \n0         1800.0  \n1            1.0  \n\n[2 rows x 24 columns]",
      "text/html": "<div>\n<style scoped>\n    .dataframe tbody tr th:only-of-type {\n        vertical-align: middle;\n    }\n\n    .dataframe tbody tr th {\n        vertical-align: top;\n    }\n\n    .dataframe thead th {\n        text-align: right;\n    }\n</style>\n<table border=\"1\" class=\"dataframe\">\n  <thead>\n    <tr style=\"text-align: right;\">\n      <th></th>\n      <th>simbolo</th>\n      <th>puntas</th>\n      <th>ultimoPrecio</th>\n      <th>variacionPorcentual</th>\n      <th>apertura</th>\n      <th>maximo</th>\n      <th>minimo</th>\n      <th>ultimoCierre</th>\n      <th>volumen</th>\n      <th>cantidadOperaciones</th>\n      <th>...</th>\n      <th>mercado</th>\n      <th>moneda</th>\n      <th>descripcion</th>\n      <th>plazo</th>\n      <th>laminaMinima</th>\n      <th>lote</th>\n      <th>cantidadCompra</th>\n      <th>precioCompra</th>\n      <th>precioVenta</th>\n      <th>cantidadVenta</th>\n    </tr>\n  </thead>\n  <tbody>\n    <tr>\n      <th>0</th>\n      <td>AAL</td>\n      <td>{'cantidadCompra': 2.0, 'precioCompra': 4880.5...</td>\n      <td>4929.5</td>\n      <td>1.18</td>\n      <td>4900.00</td>\n      <td>4998.5</td>\n      <td>4805.00</td>\n      <td>4929.5</td>\n      <td>3668.0</td>\n      <td>322.0</td>\n      <td>...</td>\n      <td>1</td>\n      <td>1</td>\n      <td>AMERICAN AIRLINES GROUP INC.</td>\n      <td>T2</td>\n      <td>1</td>\n      <td>1</td>\n      <td>2.0</td>\n      <td>4880.5</td>\n      <td>4924.5</td>\n      <td>1800.0</td>\n    </tr>\n    <tr>\n      <th>1</th>\n      <td>AALD</td>\n      <td>{'cantidadCompra': 50.0, 'precioCompra': 6.9, ...</td>\n      <td>7.3</td>\n      <td>3.98</td>\n      <td>7.02</td>\n      <td>7.3</td>\n      <td>7.02</td>\n      <td>7.3</td>\n      <td>71.0</td>\n      <td>4.0</td>\n      <td>...</td>\n      <td>1</td>\n      <td>2</td>\n      <td>American Airlines Group Inc.</td>\n      <td>T2</td>\n      <td>1</td>\n      <td>1</td>\n      <td>50.0</td>\n      <td>6.9</td>\n      <td>7.4</td>\n      <td>1.0</td>\n    </tr>\n  </tbody>\n</table>\n<p>2 rows × 24 columns</p>\n</div>"
     },
     "execution_count": 140,
     "metadata": {},
     "output_type": "execute_result"
    }
   ],
   "source": [
    "# Expand the puntas column\n",
    "queried_df[[key for key in queried_df['puntas'].iloc[0].keys()]] = queried_df['puntas'].apply(lambda x: pd.Series(x))\n",
    "queried_df.head(2)"
   ],
   "metadata": {
    "collapsed": false,
    "pycharm": {
     "name": "#%%\n"
    }
   }
  },
  {
   "cell_type": "code",
   "execution_count": 141,
   "outputs": [
    {
     "data": {
      "text/plain": "  simbolo  ultimoPrecio  volumen moneda                   descripcion plazo  \\\n0     AAL        4929.5   3668.0      1  AMERICAN AIRLINES GROUP INC.    T2   \n1    AALD           7.3     71.0      2  American Airlines Group Inc.    T2   \n\n   precioVenta  precioCompra  cantidadCompra  cantidadVenta  \n0       4924.5        4880.5             2.0         1800.0  \n1          7.4           6.9            50.0            1.0  ",
      "text/html": "<div>\n<style scoped>\n    .dataframe tbody tr th:only-of-type {\n        vertical-align: middle;\n    }\n\n    .dataframe tbody tr th {\n        vertical-align: top;\n    }\n\n    .dataframe thead th {\n        text-align: right;\n    }\n</style>\n<table border=\"1\" class=\"dataframe\">\n  <thead>\n    <tr style=\"text-align: right;\">\n      <th></th>\n      <th>simbolo</th>\n      <th>ultimoPrecio</th>\n      <th>volumen</th>\n      <th>moneda</th>\n      <th>descripcion</th>\n      <th>plazo</th>\n      <th>precioVenta</th>\n      <th>precioCompra</th>\n      <th>cantidadCompra</th>\n      <th>cantidadVenta</th>\n    </tr>\n  </thead>\n  <tbody>\n    <tr>\n      <th>0</th>\n      <td>AAL</td>\n      <td>4929.5</td>\n      <td>3668.0</td>\n      <td>1</td>\n      <td>AMERICAN AIRLINES GROUP INC.</td>\n      <td>T2</td>\n      <td>4924.5</td>\n      <td>4880.5</td>\n      <td>2.0</td>\n      <td>1800.0</td>\n    </tr>\n    <tr>\n      <th>1</th>\n      <td>AALD</td>\n      <td>7.3</td>\n      <td>71.0</td>\n      <td>2</td>\n      <td>American Airlines Group Inc.</td>\n      <td>T2</td>\n      <td>7.4</td>\n      <td>6.9</td>\n      <td>50.0</td>\n      <td>1.0</td>\n    </tr>\n  </tbody>\n</table>\n</div>"
     },
     "execution_count": 141,
     "metadata": {},
     "output_type": "execute_result"
    }
   ],
   "source": [
    "queried_df = queried_df[['simbolo', 'ultimoPrecio', 'volumen', 'moneda', 'descripcion', 'plazo', 'precioVenta', 'precioCompra', 'cantidadCompra', 'cantidadVenta']].copy()\n",
    "queried_df.head(2)"
   ],
   "metadata": {
    "collapsed": false,
    "pycharm": {
     "name": "#%%\n"
    }
   }
  },
  {
   "cell_type": "code",
   "execution_count": 142,
   "outputs": [],
   "source": [
    "# Create a df with the species in ARS\n",
    "df_pesos = queried_df[queried_df['moneda'] == \"1\"].copy()\n",
    "\n",
    "# Filter the species in dollars in dollar D (not cable)\n",
    "letter = \"D\"\n",
    "df_dolares = queried_df[(queried_df['moneda'] == \"2\") & (queried_df['simbolo'].str.endswith(letter))].copy()"
   ],
   "metadata": {
    "collapsed": false,
    "pycharm": {
     "name": "#%%\n"
    }
   }
  },
  {
   "cell_type": "code",
   "execution_count": 143,
   "outputs": [],
   "source": [
    "# Join the dfs in ARS ans USD\n",
    "\n",
    "# Add the name of the species in dollars to be able to join back into them\n",
    " # at one point it would be good to have the actual names of the species in dollars, because maybe they are different as the species name in pesos with a D in the end\n",
    "df_pesos.loc[:,f'simbolo_{letter}'] = df_pesos[\"simbolo\"] + letter\n",
    "\n",
    "# Join them\n",
    "df_pesos_and_dollars = pd.merge(df_pesos, df_dolares, left_on='simbolo_D', right_on=\"simbolo\" ,how='left', suffixes=('', '_D'))"
   ],
   "metadata": {
    "collapsed": false,
    "pycharm": {
     "name": "#%%\n"
    }
   }
  },
  {
   "cell_type": "code",
   "execution_count": 147,
   "outputs": [],
   "source": [
    "# Calculate the new columns MEP\n",
    "df_pesos_and_dollars.loc[:, 'MEP'] = df_pesos_and_dollars['ultimoPrecio'] / df_pesos_and_dollars['ultimoPrecio_D']\n",
    "df_pesos_and_dollars.loc[:, \"MEP_venta_D\"] = df_pesos_and_dollars[\"precioCompra\"] / df_pesos_and_dollars[\"precioVenta_D\"]\n",
    "df_pesos_and_dollars.loc[:, \"MEP_compra_P\"] = df_pesos_and_dollars[\"precioVenta\"] / df_pesos_and_dollars[\"precioCompra_D\"]"
   ],
   "metadata": {
    "collapsed": false,
    "pycharm": {
     "name": "#%%\n"
    }
   }
  },
  {
   "cell_type": "code",
   "execution_count": 150,
   "outputs": [
    {
     "name": "stdout",
     "output_type": "stream",
     "text": [
      "El promedio del MEP es:  689.2 $\n"
     ]
    }
   ],
   "source": [
    "# Drop rows with missing values in the 'MEP' column\n",
    "df_mep = df_pesos_and_dollars.dropna(subset=['MEP']).copy()\n",
    "df_mep = df_mep[df_mep.volumen > 0].copy()\n",
    "df_mep = df_mep[df_mep.MEP < 9999].copy()\n",
    "\n",
    "# Calculate the weighted average\n",
    "mep_promedio_general = np.average(df_mep['MEP'], weights=df_mep['volumen'])\n",
    "print(\"El promedio del MEP es: \", round(mep_promedio_general,1), \"$\")"
   ],
   "metadata": {
    "collapsed": false,
    "pycharm": {
     "name": "#%%\n"
    }
   }
  },
  {
   "cell_type": "code",
   "execution_count": 151,
   "outputs": [
    {
     "data": {
      "text/plain": "    simbolo  ultimoPrecio   volumen moneda                    descripcion  \\\n94     GOLD       12024.0    9032.0      1                   Barrick Gold   \n143    MSFT        7993.0   14937.0      1                      Microsoft   \n140      MO        8052.0    2216.0      1                   Altria Group   \n2      ABBV       11523.0    1449.0      1                    AbbVie Inc.   \n22     ARKK        2958.0    8764.0      1             Etf Ark Innovation   \n1      AAPL       13022.5   61531.0      1                          Apple   \n244     XOM       17240.0    5955.0      1                    Exxon Mobil   \n31     BABA        7006.0   21559.0      1                  Alibaba Group   \n117    INTC        5173.5    8012.0      1                          Intel   \n137    META        9235.0    8273.0      1             Meta Platforms Inc   \n214    TSLA       12788.0   23678.0      1                          Tesla   \n175    QCOM        7337.0    3828.0      1                       Qualcomm   \n15      AMD        7190.5   13896.0      1         Advanced Micro Devices   \n202     SPY       16155.0  217644.0      1               Etf Spdr S&P 500   \n126      KO        8625.0   96196.0      1          The Coca-Cola Company   \n169     PFE       12321.0    9966.0      1                         Pfizer   \n47     BRKB       12388.0   20544.0      1             Berkshire Hathaway   \n205       T        3814.5    4856.0      1                           At&T   \n69     DISN        5173.0   28577.0      1        The Walt Disney Company   \n240     WMT       20238.0   14687.0      1                        Walmart   \n203      SQ        1697.5   13993.0      1                    Square Inc.   \n136    MELI       16168.0   31723.0      1                   MercadoLibre   \n232    VIST       20625.0   26384.0      1    Vista Energy S.A.B. De C.V.   \n170      PG       22830.0    7286.0      1               Procter & Gamble   \n134     MCD        8451.5    3822.0      1                     McDonald's   \n150     NIO        1585.0  211554.0      1                       NIO INC.   \n174    PYPL        5500.5   19992.0      1           Paypal Holdings Inc.   \n176     QQQ       13430.0   10607.0      1          Etf Invesco Qqq Trust   \n18     AMZN         674.0  566021.0      1                        Amazon    \n166     PBR       11197.0   12138.0      1       Petroleo Brasileiro S.A.   \n65       DE        7293.0    3659.0      1                          Deere   \n91     GLOB        8254.0   43833.0      1                        Globant   \n68      DIA       12773.5   16731.0      1  Etf Spdr Dow Jones Industrial   \n105     HMY        3270.0    6338.0      1                  Harmony Gold    \n151     NKE        5749.5    5258.0      1                           Nike   \n157    NVDA       12806.5   10202.0      1                         Nvidia   \n123     JNJ        8089.5   26531.0      1              Johnson & Johnson   \n231    VALE        5108.0   10496.0      1                           Vale   \n34      BBD        2162.0   16730.0      1            Banco Bradesco S.A.   \n53      CAT       10200.0    1193.0      1                    Caterpillar   \n30     BA.C       10497.0    2883.0      1                Bank of America   \n189    SHOP         375.0   32126.0      1                   Shopify Inc.   \n\n    plazo  precioVenta  precioCompra  cantidadCompra  cantidadVenta  ...  \\\n94     T2      12028.5       12000.0            21.0         1000.0  ...   \n143    T2       7998.0        7975.0          3700.0         2973.0  ...   \n140    T2       8052.5        8030.0           162.0         2800.0  ...   \n2      T2      11523.0       11455.5          1000.0         1012.0  ...   \n22     T2       2972.5        2955.0         27300.0         6310.0  ...   \n1      T2      13052.0       13022.5          2200.0         1844.0  ...   \n244    T2      17206.5       17166.5          1400.0          299.0  ...   \n31     T2       7008.5        6990.0          2800.0         2800.0  ...   \n117    T2       5198.0        5173.5          5800.0          422.0  ...   \n137    T2       9249.5        9225.0          4500.0         4500.0  ...   \n214    T2      12788.0       12783.0          2500.0           14.0  ...   \n175    T2       7363.5        7336.5          4000.0          499.0  ...   \n15     T2       7207.5        7192.0            10.0          103.0  ...   \n202    T2      16186.0       16165.0             3.0           44.0  ...   \n126    T2       8626.0        8610.0            20.0           50.0  ...   \n169    T2      12321.0       12296.0             3.0           85.0  ...   \n47     T2      12380.0       12373.5             7.0           50.0  ...   \n205    T2       3834.0        3814.0          8100.0          150.0  ...   \n69     T2       5178.0        5159.5          3600.0          289.0  ...   \n240    T2      20232.0       20192.0          1400.0          325.0  ...   \n203    T2       1716.0        1704.0            22.0        12600.0  ...   \n136    T2      16158.0       16150.0             1.0          951.0  ...   \n232    T2      20647.0       20625.0            23.0           51.0  ...   \n170    T2      22825.0       22780.5          1200.0          280.0  ...   \n134    T2       8476.5        8453.5             3.0          451.0  ...   \n150    T2       1585.0        1580.0           199.0        41810.0  ...   \n174    T2       5506.0        5500.0           606.0          203.0  ...   \n176    T2      13430.0       13405.0             5.0         5167.0  ...   \n18     T2        676.5         674.0           724.0        21020.0  ...   \n166    T2      11234.0       11197.0          2800.0          667.0  ...   \n65     T2       7293.0        7227.5          1200.0         1200.0  ...   \n91     T2       8268.0        8250.5          3600.0          895.0  ...   \n68     T2      12760.0       12748.0          6500.0           50.0  ...   \n105    T2       3270.0        3258.0             2.0           19.0  ...   \n151    T2       5749.5        5705.0             1.0         1400.0  ...   \n157    T2      12828.5       12804.0          3700.0          821.0  ...   \n123    T2       8091.0        8070.0           197.0         2636.0  ...   \n231    T2       5112.0        5099.0             5.0         5900.0  ...   \n34     T2       2180.5        2162.0           147.0        18000.0  ...   \n53     T2      10200.0       10163.5          1200.0            2.0  ...   \n30     T2      10524.5       10493.5          1900.0          815.0  ...   \n189    T2        376.0         375.0            45.0          181.0  ...   \n\n    moneda_D                  descripcion_D  plazo_D  precioVenta_D  \\\n94         2                   Barrick Gold       T2         18.200   \n143        2                      Microsoft       T2         11.700   \n140        2                   Altria Group       T2         11.550   \n2          2                    Abbvie Inc.       T2         16.900   \n22         2             Etf Ark Innovation       T2          4.500   \n1          2                          Apple       T2         18.850   \n244        2                    Exxon Mobil       T2         25.500   \n31         2                  Alibaba Group       T2         10.100   \n117        2                          Intel       T2          8.000   \n137        2             Meta Platforms Inc       T2         13.600   \n214        2                          Tesla       T2         18.550   \n175        2                       Qualcomm       T2         11.000   \n15         2         Advanced Micro Devices       T2         10.350   \n202        2               Etf Spdr S&P 500       T2         23.950   \n126        2          The Coca-Cola Company       T2         12.400   \n169        2                         Pfizer       T2         18.200   \n47         2             Berkshire Hathaway       T2         17.950   \n205        2                           AT&T       T2          5.600   \n69         2        The Walt Disney Company       T2          7.540   \n240        2                        Walmart       T2         30.750   \n203        2                     Square Inc       T2          2.660   \n136        2                   MercadoLibre       T2         23.350   \n232        2    Vista Energy S.A.B. De C.V.       T2         29.750   \n170        2               Procter & Gamble       T2         33.600   \n134        2                     Mcdonald's       T2         12.900   \n150        2                       Nio Inc.       T2          2.300   \n174        2           Paypal Holdings Inc.       T2          7.990   \n176        2          Etf Invesco Qqq Trust       T2         19.550   \n18         2                         Amazon       T2          0.983   \n166        2       Petroleo Brasileiro S.A.       T2         16.350   \n65         2                          Deere       T2         11.500   \n91         2                        Globant       T2         12.100   \n68         2  Etf Spdr Dow Jones Industrial       T2         18.800   \n105        2                   Harmony Gold       T2          4.800   \n151        2                           Nike       T2          8.500   \n157        2                         Nvidia       T2         18.900   \n123        2              Johnson & Johnson       T2         11.750   \n231        2                           Vale       T2          7.500   \n34         2            Banco Bradesco S.A.       T2          3.200   \n53         2                    Caterpillar       T2         15.150   \n30         2                Bank of America       T2         15.700   \n189        2                   Shopify Inc.       T2          0.570   \n\n    precioCompra_D cantidadCompra_D cantidadVenta_D         MEP  MEP_venta_D  \\\n94          17.000             25.0            31.0  707.294118   659.340659   \n143         11.400             41.0           229.0  704.229075   681.623932   \n140         11.450              7.0             7.0  703.231441   695.238095   \n2           16.200             36.0             5.0  702.621951   677.840237   \n22           4.160             50.0            50.0  702.612827   656.666667   \n1           18.550             73.0            35.0  702.021563   690.848806   \n244         24.500              2.0            10.0  700.813008   673.196078   \n31          10.000             40.0             2.0  700.600000   692.079208   \n117          7.270             10.0            23.0  700.067659   646.687500   \n137         12.500             24.0            16.0  699.621212   678.308824   \n214         18.300             15.0            63.0  698.797814   689.110512   \n175         10.650             10.0            13.0  698.761905   666.954545   \n15          10.250             23.0            53.0  698.106796   694.879227   \n202         23.150             14.0            95.0  697.840173   674.947808   \n126         12.300              5.0            26.0  695.564516   694.354839   \n169         17.750             32.0            20.0  694.140845   675.604396   \n47          17.850              2.0            60.0  694.005602   689.331476   \n205          5.500            119.0            32.0  693.545455   681.071429   \n69           7.150             10.0            19.0  693.431635   684.283820   \n240         29.000             36.0            14.0  693.082192   656.650407   \n203          2.450            378.0             5.0  692.857143   640.601504   \n136         23.100              5.0             5.0  692.419700   691.648822   \n232         29.500            190.0            20.0  692.114094   693.277311   \n170         32.500              1.0             4.0  691.818182   677.991071   \n134         12.250             10.0            52.0  689.918367   655.310078   \n150          2.250              1.0             8.0  689.130435   686.956522   \n174          7.950             58.0            24.0  688.423029   688.360451   \n176         19.100             23.0             2.0  686.956522   685.677749   \n18           0.975            198.0            46.0  685.656155   685.656155   \n166         16.000            105.0            98.0  684.831804   684.831804   \n65          10.300             29.0            25.0  684.788732   628.478261   \n91          11.700             25.0            13.0  682.148760   681.859504   \n68          18.500             18.0           160.0  681.253333   678.085106   \n105          4.400             25.0            60.0  681.250000   678.750000   \n151          8.310             12.0             7.0  680.414201   671.176471   \n157         18.400             23.0            30.0  677.592593   677.460317   \n123         11.700             59.0            10.0  676.945607   686.808511   \n231          7.000             14.0            20.0  676.556291   679.866667   \n34           3.110             50.0           177.0  675.625000   675.625000   \n53          14.500             14.0            95.0  673.267327   670.858086   \n30          15.150              8.0            14.0  668.598726   668.375796   \n189          0.531            199.0           213.0  657.894737   657.894737   \n\n     MEP_compra_P  \n94     707.558824  \n143    701.578947  \n140    703.275109  \n2      711.296296  \n22     714.543269  \n1      703.611860  \n244    702.306122  \n31     700.850000  \n117    714.993122  \n137    739.960000  \n214    698.797814  \n175    691.408451  \n15     703.170732  \n202    699.179266  \n126    701.300813  \n169    694.140845  \n47     693.557423  \n205    697.090909  \n69     724.195804  \n240    697.655172  \n203    700.408163  \n136    699.480519  \n232    699.898305  \n170    702.307692  \n134    691.959184  \n150    704.444444  \n174    692.578616  \n176    703.141361  \n18     693.846154  \n166    702.125000  \n65     708.058252  \n91     706.666667  \n68     689.729730  \n105    743.181818  \n151    691.877256  \n157    697.201087  \n123    691.538462  \n231    730.285714  \n34     701.125402  \n53     703.448276  \n30     694.686469  \n189    708.097928  \n\n[42 rows x 24 columns]",
      "text/html": "<div>\n<style scoped>\n    .dataframe tbody tr th:only-of-type {\n        vertical-align: middle;\n    }\n\n    .dataframe tbody tr th {\n        vertical-align: top;\n    }\n\n    .dataframe thead th {\n        text-align: right;\n    }\n</style>\n<table border=\"1\" class=\"dataframe\">\n  <thead>\n    <tr style=\"text-align: right;\">\n      <th></th>\n      <th>simbolo</th>\n      <th>ultimoPrecio</th>\n      <th>volumen</th>\n      <th>moneda</th>\n      <th>descripcion</th>\n      <th>plazo</th>\n      <th>precioVenta</th>\n      <th>precioCompra</th>\n      <th>cantidadCompra</th>\n      <th>cantidadVenta</th>\n      <th>...</th>\n      <th>moneda_D</th>\n      <th>descripcion_D</th>\n      <th>plazo_D</th>\n      <th>precioVenta_D</th>\n      <th>precioCompra_D</th>\n      <th>cantidadCompra_D</th>\n      <th>cantidadVenta_D</th>\n      <th>MEP</th>\n      <th>MEP_venta_D</th>\n      <th>MEP_compra_P</th>\n    </tr>\n  </thead>\n  <tbody>\n    <tr>\n      <th>94</th>\n      <td>GOLD</td>\n      <td>12024.0</td>\n      <td>9032.0</td>\n      <td>1</td>\n      <td>Barrick Gold</td>\n      <td>T2</td>\n      <td>12028.5</td>\n      <td>12000.0</td>\n      <td>21.0</td>\n      <td>1000.0</td>\n      <td>...</td>\n      <td>2</td>\n      <td>Barrick Gold</td>\n      <td>T2</td>\n      <td>18.200</td>\n      <td>17.000</td>\n      <td>25.0</td>\n      <td>31.0</td>\n      <td>707.294118</td>\n      <td>659.340659</td>\n      <td>707.558824</td>\n    </tr>\n    <tr>\n      <th>143</th>\n      <td>MSFT</td>\n      <td>7993.0</td>\n      <td>14937.0</td>\n      <td>1</td>\n      <td>Microsoft</td>\n      <td>T2</td>\n      <td>7998.0</td>\n      <td>7975.0</td>\n      <td>3700.0</td>\n      <td>2973.0</td>\n      <td>...</td>\n      <td>2</td>\n      <td>Microsoft</td>\n      <td>T2</td>\n      <td>11.700</td>\n      <td>11.400</td>\n      <td>41.0</td>\n      <td>229.0</td>\n      <td>704.229075</td>\n      <td>681.623932</td>\n      <td>701.578947</td>\n    </tr>\n    <tr>\n      <th>140</th>\n      <td>MO</td>\n      <td>8052.0</td>\n      <td>2216.0</td>\n      <td>1</td>\n      <td>Altria Group</td>\n      <td>T2</td>\n      <td>8052.5</td>\n      <td>8030.0</td>\n      <td>162.0</td>\n      <td>2800.0</td>\n      <td>...</td>\n      <td>2</td>\n      <td>Altria Group</td>\n      <td>T2</td>\n      <td>11.550</td>\n      <td>11.450</td>\n      <td>7.0</td>\n      <td>7.0</td>\n      <td>703.231441</td>\n      <td>695.238095</td>\n      <td>703.275109</td>\n    </tr>\n    <tr>\n      <th>2</th>\n      <td>ABBV</td>\n      <td>11523.0</td>\n      <td>1449.0</td>\n      <td>1</td>\n      <td>AbbVie Inc.</td>\n      <td>T2</td>\n      <td>11523.0</td>\n      <td>11455.5</td>\n      <td>1000.0</td>\n      <td>1012.0</td>\n      <td>...</td>\n      <td>2</td>\n      <td>Abbvie Inc.</td>\n      <td>T2</td>\n      <td>16.900</td>\n      <td>16.200</td>\n      <td>36.0</td>\n      <td>5.0</td>\n      <td>702.621951</td>\n      <td>677.840237</td>\n      <td>711.296296</td>\n    </tr>\n    <tr>\n      <th>22</th>\n      <td>ARKK</td>\n      <td>2958.0</td>\n      <td>8764.0</td>\n      <td>1</td>\n      <td>Etf Ark Innovation</td>\n      <td>T2</td>\n      <td>2972.5</td>\n      <td>2955.0</td>\n      <td>27300.0</td>\n      <td>6310.0</td>\n      <td>...</td>\n      <td>2</td>\n      <td>Etf Ark Innovation</td>\n      <td>T2</td>\n      <td>4.500</td>\n      <td>4.160</td>\n      <td>50.0</td>\n      <td>50.0</td>\n      <td>702.612827</td>\n      <td>656.666667</td>\n      <td>714.543269</td>\n    </tr>\n    <tr>\n      <th>1</th>\n      <td>AAPL</td>\n      <td>13022.5</td>\n      <td>61531.0</td>\n      <td>1</td>\n      <td>Apple</td>\n      <td>T2</td>\n      <td>13052.0</td>\n      <td>13022.5</td>\n      <td>2200.0</td>\n      <td>1844.0</td>\n      <td>...</td>\n      <td>2</td>\n      <td>Apple</td>\n      <td>T2</td>\n      <td>18.850</td>\n      <td>18.550</td>\n      <td>73.0</td>\n      <td>35.0</td>\n      <td>702.021563</td>\n      <td>690.848806</td>\n      <td>703.611860</td>\n    </tr>\n    <tr>\n      <th>244</th>\n      <td>XOM</td>\n      <td>17240.0</td>\n      <td>5955.0</td>\n      <td>1</td>\n      <td>Exxon Mobil</td>\n      <td>T2</td>\n      <td>17206.5</td>\n      <td>17166.5</td>\n      <td>1400.0</td>\n      <td>299.0</td>\n      <td>...</td>\n      <td>2</td>\n      <td>Exxon Mobil</td>\n      <td>T2</td>\n      <td>25.500</td>\n      <td>24.500</td>\n      <td>2.0</td>\n      <td>10.0</td>\n      <td>700.813008</td>\n      <td>673.196078</td>\n      <td>702.306122</td>\n    </tr>\n    <tr>\n      <th>31</th>\n      <td>BABA</td>\n      <td>7006.0</td>\n      <td>21559.0</td>\n      <td>1</td>\n      <td>Alibaba Group</td>\n      <td>T2</td>\n      <td>7008.5</td>\n      <td>6990.0</td>\n      <td>2800.0</td>\n      <td>2800.0</td>\n      <td>...</td>\n      <td>2</td>\n      <td>Alibaba Group</td>\n      <td>T2</td>\n      <td>10.100</td>\n      <td>10.000</td>\n      <td>40.0</td>\n      <td>2.0</td>\n      <td>700.600000</td>\n      <td>692.079208</td>\n      <td>700.850000</td>\n    </tr>\n    <tr>\n      <th>117</th>\n      <td>INTC</td>\n      <td>5173.5</td>\n      <td>8012.0</td>\n      <td>1</td>\n      <td>Intel</td>\n      <td>T2</td>\n      <td>5198.0</td>\n      <td>5173.5</td>\n      <td>5800.0</td>\n      <td>422.0</td>\n      <td>...</td>\n      <td>2</td>\n      <td>Intel</td>\n      <td>T2</td>\n      <td>8.000</td>\n      <td>7.270</td>\n      <td>10.0</td>\n      <td>23.0</td>\n      <td>700.067659</td>\n      <td>646.687500</td>\n      <td>714.993122</td>\n    </tr>\n    <tr>\n      <th>137</th>\n      <td>META</td>\n      <td>9235.0</td>\n      <td>8273.0</td>\n      <td>1</td>\n      <td>Meta Platforms Inc</td>\n      <td>T2</td>\n      <td>9249.5</td>\n      <td>9225.0</td>\n      <td>4500.0</td>\n      <td>4500.0</td>\n      <td>...</td>\n      <td>2</td>\n      <td>Meta Platforms Inc</td>\n      <td>T2</td>\n      <td>13.600</td>\n      <td>12.500</td>\n      <td>24.0</td>\n      <td>16.0</td>\n      <td>699.621212</td>\n      <td>678.308824</td>\n      <td>739.960000</td>\n    </tr>\n    <tr>\n      <th>214</th>\n      <td>TSLA</td>\n      <td>12788.0</td>\n      <td>23678.0</td>\n      <td>1</td>\n      <td>Tesla</td>\n      <td>T2</td>\n      <td>12788.0</td>\n      <td>12783.0</td>\n      <td>2500.0</td>\n      <td>14.0</td>\n      <td>...</td>\n      <td>2</td>\n      <td>Tesla</td>\n      <td>T2</td>\n      <td>18.550</td>\n      <td>18.300</td>\n      <td>15.0</td>\n      <td>63.0</td>\n      <td>698.797814</td>\n      <td>689.110512</td>\n      <td>698.797814</td>\n    </tr>\n    <tr>\n      <th>175</th>\n      <td>QCOM</td>\n      <td>7337.0</td>\n      <td>3828.0</td>\n      <td>1</td>\n      <td>Qualcomm</td>\n      <td>T2</td>\n      <td>7363.5</td>\n      <td>7336.5</td>\n      <td>4000.0</td>\n      <td>499.0</td>\n      <td>...</td>\n      <td>2</td>\n      <td>Qualcomm</td>\n      <td>T2</td>\n      <td>11.000</td>\n      <td>10.650</td>\n      <td>10.0</td>\n      <td>13.0</td>\n      <td>698.761905</td>\n      <td>666.954545</td>\n      <td>691.408451</td>\n    </tr>\n    <tr>\n      <th>15</th>\n      <td>AMD</td>\n      <td>7190.5</td>\n      <td>13896.0</td>\n      <td>1</td>\n      <td>Advanced Micro Devices</td>\n      <td>T2</td>\n      <td>7207.5</td>\n      <td>7192.0</td>\n      <td>10.0</td>\n      <td>103.0</td>\n      <td>...</td>\n      <td>2</td>\n      <td>Advanced Micro Devices</td>\n      <td>T2</td>\n      <td>10.350</td>\n      <td>10.250</td>\n      <td>23.0</td>\n      <td>53.0</td>\n      <td>698.106796</td>\n      <td>694.879227</td>\n      <td>703.170732</td>\n    </tr>\n    <tr>\n      <th>202</th>\n      <td>SPY</td>\n      <td>16155.0</td>\n      <td>217644.0</td>\n      <td>1</td>\n      <td>Etf Spdr S&amp;P 500</td>\n      <td>T2</td>\n      <td>16186.0</td>\n      <td>16165.0</td>\n      <td>3.0</td>\n      <td>44.0</td>\n      <td>...</td>\n      <td>2</td>\n      <td>Etf Spdr S&amp;P 500</td>\n      <td>T2</td>\n      <td>23.950</td>\n      <td>23.150</td>\n      <td>14.0</td>\n      <td>95.0</td>\n      <td>697.840173</td>\n      <td>674.947808</td>\n      <td>699.179266</td>\n    </tr>\n    <tr>\n      <th>126</th>\n      <td>KO</td>\n      <td>8625.0</td>\n      <td>96196.0</td>\n      <td>1</td>\n      <td>The Coca-Cola Company</td>\n      <td>T2</td>\n      <td>8626.0</td>\n      <td>8610.0</td>\n      <td>20.0</td>\n      <td>50.0</td>\n      <td>...</td>\n      <td>2</td>\n      <td>The Coca-Cola Company</td>\n      <td>T2</td>\n      <td>12.400</td>\n      <td>12.300</td>\n      <td>5.0</td>\n      <td>26.0</td>\n      <td>695.564516</td>\n      <td>694.354839</td>\n      <td>701.300813</td>\n    </tr>\n    <tr>\n      <th>169</th>\n      <td>PFE</td>\n      <td>12321.0</td>\n      <td>9966.0</td>\n      <td>1</td>\n      <td>Pfizer</td>\n      <td>T2</td>\n      <td>12321.0</td>\n      <td>12296.0</td>\n      <td>3.0</td>\n      <td>85.0</td>\n      <td>...</td>\n      <td>2</td>\n      <td>Pfizer</td>\n      <td>T2</td>\n      <td>18.200</td>\n      <td>17.750</td>\n      <td>32.0</td>\n      <td>20.0</td>\n      <td>694.140845</td>\n      <td>675.604396</td>\n      <td>694.140845</td>\n    </tr>\n    <tr>\n      <th>47</th>\n      <td>BRKB</td>\n      <td>12388.0</td>\n      <td>20544.0</td>\n      <td>1</td>\n      <td>Berkshire Hathaway</td>\n      <td>T2</td>\n      <td>12380.0</td>\n      <td>12373.5</td>\n      <td>7.0</td>\n      <td>50.0</td>\n      <td>...</td>\n      <td>2</td>\n      <td>Berkshire Hathaway</td>\n      <td>T2</td>\n      <td>17.950</td>\n      <td>17.850</td>\n      <td>2.0</td>\n      <td>60.0</td>\n      <td>694.005602</td>\n      <td>689.331476</td>\n      <td>693.557423</td>\n    </tr>\n    <tr>\n      <th>205</th>\n      <td>T</td>\n      <td>3814.5</td>\n      <td>4856.0</td>\n      <td>1</td>\n      <td>At&amp;T</td>\n      <td>T2</td>\n      <td>3834.0</td>\n      <td>3814.0</td>\n      <td>8100.0</td>\n      <td>150.0</td>\n      <td>...</td>\n      <td>2</td>\n      <td>AT&amp;T</td>\n      <td>T2</td>\n      <td>5.600</td>\n      <td>5.500</td>\n      <td>119.0</td>\n      <td>32.0</td>\n      <td>693.545455</td>\n      <td>681.071429</td>\n      <td>697.090909</td>\n    </tr>\n    <tr>\n      <th>69</th>\n      <td>DISN</td>\n      <td>5173.0</td>\n      <td>28577.0</td>\n      <td>1</td>\n      <td>The Walt Disney Company</td>\n      <td>T2</td>\n      <td>5178.0</td>\n      <td>5159.5</td>\n      <td>3600.0</td>\n      <td>289.0</td>\n      <td>...</td>\n      <td>2</td>\n      <td>The Walt Disney Company</td>\n      <td>T2</td>\n      <td>7.540</td>\n      <td>7.150</td>\n      <td>10.0</td>\n      <td>19.0</td>\n      <td>693.431635</td>\n      <td>684.283820</td>\n      <td>724.195804</td>\n    </tr>\n    <tr>\n      <th>240</th>\n      <td>WMT</td>\n      <td>20238.0</td>\n      <td>14687.0</td>\n      <td>1</td>\n      <td>Walmart</td>\n      <td>T2</td>\n      <td>20232.0</td>\n      <td>20192.0</td>\n      <td>1400.0</td>\n      <td>325.0</td>\n      <td>...</td>\n      <td>2</td>\n      <td>Walmart</td>\n      <td>T2</td>\n      <td>30.750</td>\n      <td>29.000</td>\n      <td>36.0</td>\n      <td>14.0</td>\n      <td>693.082192</td>\n      <td>656.650407</td>\n      <td>697.655172</td>\n    </tr>\n    <tr>\n      <th>203</th>\n      <td>SQ</td>\n      <td>1697.5</td>\n      <td>13993.0</td>\n      <td>1</td>\n      <td>Square Inc.</td>\n      <td>T2</td>\n      <td>1716.0</td>\n      <td>1704.0</td>\n      <td>22.0</td>\n      <td>12600.0</td>\n      <td>...</td>\n      <td>2</td>\n      <td>Square Inc</td>\n      <td>T2</td>\n      <td>2.660</td>\n      <td>2.450</td>\n      <td>378.0</td>\n      <td>5.0</td>\n      <td>692.857143</td>\n      <td>640.601504</td>\n      <td>700.408163</td>\n    </tr>\n    <tr>\n      <th>136</th>\n      <td>MELI</td>\n      <td>16168.0</td>\n      <td>31723.0</td>\n      <td>1</td>\n      <td>MercadoLibre</td>\n      <td>T2</td>\n      <td>16158.0</td>\n      <td>16150.0</td>\n      <td>1.0</td>\n      <td>951.0</td>\n      <td>...</td>\n      <td>2</td>\n      <td>MercadoLibre</td>\n      <td>T2</td>\n      <td>23.350</td>\n      <td>23.100</td>\n      <td>5.0</td>\n      <td>5.0</td>\n      <td>692.419700</td>\n      <td>691.648822</td>\n      <td>699.480519</td>\n    </tr>\n    <tr>\n      <th>232</th>\n      <td>VIST</td>\n      <td>20625.0</td>\n      <td>26384.0</td>\n      <td>1</td>\n      <td>Vista Energy S.A.B. De C.V.</td>\n      <td>T2</td>\n      <td>20647.0</td>\n      <td>20625.0</td>\n      <td>23.0</td>\n      <td>51.0</td>\n      <td>...</td>\n      <td>2</td>\n      <td>Vista Energy S.A.B. De C.V.</td>\n      <td>T2</td>\n      <td>29.750</td>\n      <td>29.500</td>\n      <td>190.0</td>\n      <td>20.0</td>\n      <td>692.114094</td>\n      <td>693.277311</td>\n      <td>699.898305</td>\n    </tr>\n    <tr>\n      <th>170</th>\n      <td>PG</td>\n      <td>22830.0</td>\n      <td>7286.0</td>\n      <td>1</td>\n      <td>Procter &amp; Gamble</td>\n      <td>T2</td>\n      <td>22825.0</td>\n      <td>22780.5</td>\n      <td>1200.0</td>\n      <td>280.0</td>\n      <td>...</td>\n      <td>2</td>\n      <td>Procter &amp; Gamble</td>\n      <td>T2</td>\n      <td>33.600</td>\n      <td>32.500</td>\n      <td>1.0</td>\n      <td>4.0</td>\n      <td>691.818182</td>\n      <td>677.991071</td>\n      <td>702.307692</td>\n    </tr>\n    <tr>\n      <th>134</th>\n      <td>MCD</td>\n      <td>8451.5</td>\n      <td>3822.0</td>\n      <td>1</td>\n      <td>McDonald's</td>\n      <td>T2</td>\n      <td>8476.5</td>\n      <td>8453.5</td>\n      <td>3.0</td>\n      <td>451.0</td>\n      <td>...</td>\n      <td>2</td>\n      <td>Mcdonald's</td>\n      <td>T2</td>\n      <td>12.900</td>\n      <td>12.250</td>\n      <td>10.0</td>\n      <td>52.0</td>\n      <td>689.918367</td>\n      <td>655.310078</td>\n      <td>691.959184</td>\n    </tr>\n    <tr>\n      <th>150</th>\n      <td>NIO</td>\n      <td>1585.0</td>\n      <td>211554.0</td>\n      <td>1</td>\n      <td>NIO INC.</td>\n      <td>T2</td>\n      <td>1585.0</td>\n      <td>1580.0</td>\n      <td>199.0</td>\n      <td>41810.0</td>\n      <td>...</td>\n      <td>2</td>\n      <td>Nio Inc.</td>\n      <td>T2</td>\n      <td>2.300</td>\n      <td>2.250</td>\n      <td>1.0</td>\n      <td>8.0</td>\n      <td>689.130435</td>\n      <td>686.956522</td>\n      <td>704.444444</td>\n    </tr>\n    <tr>\n      <th>174</th>\n      <td>PYPL</td>\n      <td>5500.5</td>\n      <td>19992.0</td>\n      <td>1</td>\n      <td>Paypal Holdings Inc.</td>\n      <td>T2</td>\n      <td>5506.0</td>\n      <td>5500.0</td>\n      <td>606.0</td>\n      <td>203.0</td>\n      <td>...</td>\n      <td>2</td>\n      <td>Paypal Holdings Inc.</td>\n      <td>T2</td>\n      <td>7.990</td>\n      <td>7.950</td>\n      <td>58.0</td>\n      <td>24.0</td>\n      <td>688.423029</td>\n      <td>688.360451</td>\n      <td>692.578616</td>\n    </tr>\n    <tr>\n      <th>176</th>\n      <td>QQQ</td>\n      <td>13430.0</td>\n      <td>10607.0</td>\n      <td>1</td>\n      <td>Etf Invesco Qqq Trust</td>\n      <td>T2</td>\n      <td>13430.0</td>\n      <td>13405.0</td>\n      <td>5.0</td>\n      <td>5167.0</td>\n      <td>...</td>\n      <td>2</td>\n      <td>Etf Invesco Qqq Trust</td>\n      <td>T2</td>\n      <td>19.550</td>\n      <td>19.100</td>\n      <td>23.0</td>\n      <td>2.0</td>\n      <td>686.956522</td>\n      <td>685.677749</td>\n      <td>703.141361</td>\n    </tr>\n    <tr>\n      <th>18</th>\n      <td>AMZN</td>\n      <td>674.0</td>\n      <td>566021.0</td>\n      <td>1</td>\n      <td>Amazon</td>\n      <td>T2</td>\n      <td>676.5</td>\n      <td>674.0</td>\n      <td>724.0</td>\n      <td>21020.0</td>\n      <td>...</td>\n      <td>2</td>\n      <td>Amazon</td>\n      <td>T2</td>\n      <td>0.983</td>\n      <td>0.975</td>\n      <td>198.0</td>\n      <td>46.0</td>\n      <td>685.656155</td>\n      <td>685.656155</td>\n      <td>693.846154</td>\n    </tr>\n    <tr>\n      <th>166</th>\n      <td>PBR</td>\n      <td>11197.0</td>\n      <td>12138.0</td>\n      <td>1</td>\n      <td>Petroleo Brasileiro S.A.</td>\n      <td>T2</td>\n      <td>11234.0</td>\n      <td>11197.0</td>\n      <td>2800.0</td>\n      <td>667.0</td>\n      <td>...</td>\n      <td>2</td>\n      <td>Petroleo Brasileiro S.A.</td>\n      <td>T2</td>\n      <td>16.350</td>\n      <td>16.000</td>\n      <td>105.0</td>\n      <td>98.0</td>\n      <td>684.831804</td>\n      <td>684.831804</td>\n      <td>702.125000</td>\n    </tr>\n    <tr>\n      <th>65</th>\n      <td>DE</td>\n      <td>7293.0</td>\n      <td>3659.0</td>\n      <td>1</td>\n      <td>Deere</td>\n      <td>T2</td>\n      <td>7293.0</td>\n      <td>7227.5</td>\n      <td>1200.0</td>\n      <td>1200.0</td>\n      <td>...</td>\n      <td>2</td>\n      <td>Deere</td>\n      <td>T2</td>\n      <td>11.500</td>\n      <td>10.300</td>\n      <td>29.0</td>\n      <td>25.0</td>\n      <td>684.788732</td>\n      <td>628.478261</td>\n      <td>708.058252</td>\n    </tr>\n    <tr>\n      <th>91</th>\n      <td>GLOB</td>\n      <td>8254.0</td>\n      <td>43833.0</td>\n      <td>1</td>\n      <td>Globant</td>\n      <td>T2</td>\n      <td>8268.0</td>\n      <td>8250.5</td>\n      <td>3600.0</td>\n      <td>895.0</td>\n      <td>...</td>\n      <td>2</td>\n      <td>Globant</td>\n      <td>T2</td>\n      <td>12.100</td>\n      <td>11.700</td>\n      <td>25.0</td>\n      <td>13.0</td>\n      <td>682.148760</td>\n      <td>681.859504</td>\n      <td>706.666667</td>\n    </tr>\n    <tr>\n      <th>68</th>\n      <td>DIA</td>\n      <td>12773.5</td>\n      <td>16731.0</td>\n      <td>1</td>\n      <td>Etf Spdr Dow Jones Industrial</td>\n      <td>T2</td>\n      <td>12760.0</td>\n      <td>12748.0</td>\n      <td>6500.0</td>\n      <td>50.0</td>\n      <td>...</td>\n      <td>2</td>\n      <td>Etf Spdr Dow Jones Industrial</td>\n      <td>T2</td>\n      <td>18.800</td>\n      <td>18.500</td>\n      <td>18.0</td>\n      <td>160.0</td>\n      <td>681.253333</td>\n      <td>678.085106</td>\n      <td>689.729730</td>\n    </tr>\n    <tr>\n      <th>105</th>\n      <td>HMY</td>\n      <td>3270.0</td>\n      <td>6338.0</td>\n      <td>1</td>\n      <td>Harmony Gold</td>\n      <td>T2</td>\n      <td>3270.0</td>\n      <td>3258.0</td>\n      <td>2.0</td>\n      <td>19.0</td>\n      <td>...</td>\n      <td>2</td>\n      <td>Harmony Gold</td>\n      <td>T2</td>\n      <td>4.800</td>\n      <td>4.400</td>\n      <td>25.0</td>\n      <td>60.0</td>\n      <td>681.250000</td>\n      <td>678.750000</td>\n      <td>743.181818</td>\n    </tr>\n    <tr>\n      <th>151</th>\n      <td>NKE</td>\n      <td>5749.5</td>\n      <td>5258.0</td>\n      <td>1</td>\n      <td>Nike</td>\n      <td>T2</td>\n      <td>5749.5</td>\n      <td>5705.0</td>\n      <td>1.0</td>\n      <td>1400.0</td>\n      <td>...</td>\n      <td>2</td>\n      <td>Nike</td>\n      <td>T2</td>\n      <td>8.500</td>\n      <td>8.310</td>\n      <td>12.0</td>\n      <td>7.0</td>\n      <td>680.414201</td>\n      <td>671.176471</td>\n      <td>691.877256</td>\n    </tr>\n    <tr>\n      <th>157</th>\n      <td>NVDA</td>\n      <td>12806.5</td>\n      <td>10202.0</td>\n      <td>1</td>\n      <td>Nvidia</td>\n      <td>T2</td>\n      <td>12828.5</td>\n      <td>12804.0</td>\n      <td>3700.0</td>\n      <td>821.0</td>\n      <td>...</td>\n      <td>2</td>\n      <td>Nvidia</td>\n      <td>T2</td>\n      <td>18.900</td>\n      <td>18.400</td>\n      <td>23.0</td>\n      <td>30.0</td>\n      <td>677.592593</td>\n      <td>677.460317</td>\n      <td>697.201087</td>\n    </tr>\n    <tr>\n      <th>123</th>\n      <td>JNJ</td>\n      <td>8089.5</td>\n      <td>26531.0</td>\n      <td>1</td>\n      <td>Johnson &amp; Johnson</td>\n      <td>T2</td>\n      <td>8091.0</td>\n      <td>8070.0</td>\n      <td>197.0</td>\n      <td>2636.0</td>\n      <td>...</td>\n      <td>2</td>\n      <td>Johnson &amp; Johnson</td>\n      <td>T2</td>\n      <td>11.750</td>\n      <td>11.700</td>\n      <td>59.0</td>\n      <td>10.0</td>\n      <td>676.945607</td>\n      <td>686.808511</td>\n      <td>691.538462</td>\n    </tr>\n    <tr>\n      <th>231</th>\n      <td>VALE</td>\n      <td>5108.0</td>\n      <td>10496.0</td>\n      <td>1</td>\n      <td>Vale</td>\n      <td>T2</td>\n      <td>5112.0</td>\n      <td>5099.0</td>\n      <td>5.0</td>\n      <td>5900.0</td>\n      <td>...</td>\n      <td>2</td>\n      <td>Vale</td>\n      <td>T2</td>\n      <td>7.500</td>\n      <td>7.000</td>\n      <td>14.0</td>\n      <td>20.0</td>\n      <td>676.556291</td>\n      <td>679.866667</td>\n      <td>730.285714</td>\n    </tr>\n    <tr>\n      <th>34</th>\n      <td>BBD</td>\n      <td>2162.0</td>\n      <td>16730.0</td>\n      <td>1</td>\n      <td>Banco Bradesco S.A.</td>\n      <td>T2</td>\n      <td>2180.5</td>\n      <td>2162.0</td>\n      <td>147.0</td>\n      <td>18000.0</td>\n      <td>...</td>\n      <td>2</td>\n      <td>Banco Bradesco S.A.</td>\n      <td>T2</td>\n      <td>3.200</td>\n      <td>3.110</td>\n      <td>50.0</td>\n      <td>177.0</td>\n      <td>675.625000</td>\n      <td>675.625000</td>\n      <td>701.125402</td>\n    </tr>\n    <tr>\n      <th>53</th>\n      <td>CAT</td>\n      <td>10200.0</td>\n      <td>1193.0</td>\n      <td>1</td>\n      <td>Caterpillar</td>\n      <td>T2</td>\n      <td>10200.0</td>\n      <td>10163.5</td>\n      <td>1200.0</td>\n      <td>2.0</td>\n      <td>...</td>\n      <td>2</td>\n      <td>Caterpillar</td>\n      <td>T2</td>\n      <td>15.150</td>\n      <td>14.500</td>\n      <td>14.0</td>\n      <td>95.0</td>\n      <td>673.267327</td>\n      <td>670.858086</td>\n      <td>703.448276</td>\n    </tr>\n    <tr>\n      <th>30</th>\n      <td>BA.C</td>\n      <td>10497.0</td>\n      <td>2883.0</td>\n      <td>1</td>\n      <td>Bank of America</td>\n      <td>T2</td>\n      <td>10524.5</td>\n      <td>10493.5</td>\n      <td>1900.0</td>\n      <td>815.0</td>\n      <td>...</td>\n      <td>2</td>\n      <td>Bank of America</td>\n      <td>T2</td>\n      <td>15.700</td>\n      <td>15.150</td>\n      <td>8.0</td>\n      <td>14.0</td>\n      <td>668.598726</td>\n      <td>668.375796</td>\n      <td>694.686469</td>\n    </tr>\n    <tr>\n      <th>189</th>\n      <td>SHOP</td>\n      <td>375.0</td>\n      <td>32126.0</td>\n      <td>1</td>\n      <td>Shopify Inc.</td>\n      <td>T2</td>\n      <td>376.0</td>\n      <td>375.0</td>\n      <td>45.0</td>\n      <td>181.0</td>\n      <td>...</td>\n      <td>2</td>\n      <td>Shopify Inc.</td>\n      <td>T2</td>\n      <td>0.570</td>\n      <td>0.531</td>\n      <td>199.0</td>\n      <td>213.0</td>\n      <td>657.894737</td>\n      <td>657.894737</td>\n      <td>708.097928</td>\n    </tr>\n  </tbody>\n</table>\n<p>42 rows × 24 columns</p>\n</div>"
     },
     "execution_count": 151,
     "metadata": {},
     "output_type": "execute_result"
    }
   ],
   "source": [
    "final_filter_volume = df_mep[(df_mep.volumen > 1000) & (df_mep.volumen_D > 100)]\n",
    "final_filter_volume.sort_values(by=\"MEP\", ascending=False)"
   ],
   "metadata": {
    "collapsed": false,
    "pycharm": {
     "name": "#%%\n"
    }
   }
  },
  {
   "cell_type": "code",
   "execution_count": 159,
   "outputs": [],
   "source": [
    "cols = [\"simbolo\",\"descripcion\",\"volumen\",\"ultimoPrecio\", \"precioVenta\",\"precioCompra\",\"cantidadCompra\",\"cantidadVenta\",\"volumen_D\", \"ultimoPrecio_D\", \"precioVenta_D\",\"precioCompra_D\",\"cantidadCompra_D\",\"cantidadVenta_D\",\"MEP\", \"MEP_venta_D\", \"MEP_compra_P\"]\n",
    "final_filter_volume[cols].to_csv(\"blaaa.csv\", index=False)"
   ],
   "metadata": {
    "collapsed": false,
    "pycharm": {
     "name": "#%%\n"
    }
   }
  }
 ],
 "metadata": {
  "kernelspec": {
   "display_name": "Python 3",
   "language": "python",
   "name": "python3"
  },
  "language_info": {
   "codemirror_mode": {
    "name": "ipython",
    "version": 2
   },
   "file_extension": ".py",
   "mimetype": "text/x-python",
   "name": "python",
   "nbconvert_exporter": "python",
   "pygments_lexer": "ipython2",
   "version": "2.7.6"
  }
 },
 "nbformat": 4,
 "nbformat_minor": 0
}