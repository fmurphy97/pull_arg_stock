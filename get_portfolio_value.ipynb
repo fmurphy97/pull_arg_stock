{
 "cells": [
  {
   "cell_type": "code",
   "execution_count": 1,
   "id": "initial_id",
   "metadata": {
    "collapsed": true,
    "ExecuteTime": {
     "end_time": "2023-12-28T20:02:55.685181700Z",
     "start_time": "2023-12-28T20:02:53.080196800Z"
    }
   },
   "outputs": [],
   "source": [
    "import pandas as pd\n",
    "import datetime\n",
    "import re\n",
    "import yfinance as yf\n",
    "from io import StringIO\n"
   ]
  },
  {
   "cell_type": "code",
   "execution_count": 2,
   "outputs": [],
   "source": [
    "table_txt = \"\"\"\n",
    "\tNombre\tVariación diaria\tÚltimo Operado AR$\tCantidad\tTenencia US$\n",
    "\tAR$\t0.00%\t1,00\t1.585,74\t1,66\n",
    "\tUS$ MEP\t0.00%\t955,88\t3.744,58\t3.744,58\n",
    "\tSPY\t+7.19%\t22.305,00\t349,00\t8.143,73\n",
    "\tDIA\t+8.04%\t17.721,00\t86,00\t1.594,34\n",
    "\tDISN\t+7.81%\t7.105,50\t17,00\t126,37\n",
    "\tINTC\t+7.28%\t9.504,50\t10,00\t99,43\n",
    "\tAL30\t+0.42%\t35.800,00\t255,00\t95,50\n",
    "\tGD30\t-0.13%\t38.000,00\t200,00\t79,51\n",
    "\"\"\""
   ],
   "metadata": {
    "collapsed": false,
    "ExecuteTime": {
     "end_time": "2023-12-28T20:02:55.695750300Z",
     "start_time": "2023-12-28T20:02:55.680398400Z"
    }
   },
   "id": "be011752f111f6bb"
  },
  {
   "cell_type": "code",
   "execution_count": 3,
   "outputs": [
    {
     "data": {
      "text/plain": "    Nombre Variación diaria Último Operado AR$  Cantidad Tenencia US$\n0      AR$            0.00%               1,00  1.585,74         1,66\n1  US$ MEP            0.00%             955,88  3.744,58     3.744,58\n2      SPY           +7.19%          22.305,00    349,00     8.143,73\n3      DIA           +8.04%          17.721,00     86,00     1.594,34\n4     DISN           +7.81%           7.105,50     17,00       126,37\n5     INTC           +7.28%           9.504,50     10,00        99,43\n6     AL30           +0.42%          35.800,00    255,00        95,50\n7     GD30           -0.13%          38.000,00    200,00        79,51",
      "text/html": "<div>\n<style scoped>\n    .dataframe tbody tr th:only-of-type {\n        vertical-align: middle;\n    }\n\n    .dataframe tbody tr th {\n        vertical-align: top;\n    }\n\n    .dataframe thead th {\n        text-align: right;\n    }\n</style>\n<table border=\"1\" class=\"dataframe\">\n  <thead>\n    <tr style=\"text-align: right;\">\n      <th></th>\n      <th>Nombre</th>\n      <th>Variación diaria</th>\n      <th>Último Operado AR$</th>\n      <th>Cantidad</th>\n      <th>Tenencia US$</th>\n    </tr>\n  </thead>\n  <tbody>\n    <tr>\n      <th>0</th>\n      <td>AR$</td>\n      <td>0.00%</td>\n      <td>1,00</td>\n      <td>1.585,74</td>\n      <td>1,66</td>\n    </tr>\n    <tr>\n      <th>1</th>\n      <td>US$ MEP</td>\n      <td>0.00%</td>\n      <td>955,88</td>\n      <td>3.744,58</td>\n      <td>3.744,58</td>\n    </tr>\n    <tr>\n      <th>2</th>\n      <td>SPY</td>\n      <td>+7.19%</td>\n      <td>22.305,00</td>\n      <td>349,00</td>\n      <td>8.143,73</td>\n    </tr>\n    <tr>\n      <th>3</th>\n      <td>DIA</td>\n      <td>+8.04%</td>\n      <td>17.721,00</td>\n      <td>86,00</td>\n      <td>1.594,34</td>\n    </tr>\n    <tr>\n      <th>4</th>\n      <td>DISN</td>\n      <td>+7.81%</td>\n      <td>7.105,50</td>\n      <td>17,00</td>\n      <td>126,37</td>\n    </tr>\n    <tr>\n      <th>5</th>\n      <td>INTC</td>\n      <td>+7.28%</td>\n      <td>9.504,50</td>\n      <td>10,00</td>\n      <td>99,43</td>\n    </tr>\n    <tr>\n      <th>6</th>\n      <td>AL30</td>\n      <td>+0.42%</td>\n      <td>35.800,00</td>\n      <td>255,00</td>\n      <td>95,50</td>\n    </tr>\n    <tr>\n      <th>7</th>\n      <td>GD30</td>\n      <td>-0.13%</td>\n      <td>38.000,00</td>\n      <td>200,00</td>\n      <td>79,51</td>\n    </tr>\n  </tbody>\n</table>\n</div>"
     },
     "execution_count": 3,
     "metadata": {},
     "output_type": "execute_result"
    }
   ],
   "source": [
    "data = StringIO(table_txt)\n",
    "df = pd.read_csv(data, delimiter='\\t')\n",
    "df.drop(\"Unnamed: 0\", axis=1, inplace=True)\n",
    "df"
   ],
   "metadata": {
    "collapsed": false,
    "ExecuteTime": {
     "end_time": "2023-12-28T20:02:55.774813100Z",
     "start_time": "2023-12-28T20:02:55.695750300Z"
    }
   },
   "id": "bf1be266fc10c1d6"
  },
  {
   "cell_type": "code",
   "execution_count": 4,
   "outputs": [],
   "source": [
    "def correct_str(input_str):\n",
    "    input_str = input_str.replace(\".\", \"\")\n",
    "    input_str = input_str.replace(\",\", \".\")\n",
    "\n",
    "    input_str = re.sub(\"[^0-9^.]\", \"\", input_str)\n",
    "\n",
    "    if input_str == '':\n",
    "        input_str = 0.0\n",
    "    return float(input_str)"
   ],
   "metadata": {
    "collapsed": false,
    "ExecuteTime": {
     "end_time": "2023-12-28T20:02:55.774813100Z",
     "start_time": "2023-12-28T20:02:55.753153800Z"
    }
   },
   "id": "fbb3278a80e8b91c"
  },
  {
   "cell_type": "code",
   "execution_count": 5,
   "outputs": [],
   "source": [
    "for col in df.columns:\n",
    "    if col != \"Nombre\":\n",
    "        df[col] = df[col].apply(correct_str)"
   ],
   "metadata": {
    "collapsed": false,
    "ExecuteTime": {
     "end_time": "2023-12-28T20:02:55.774813100Z",
     "start_time": "2023-12-28T20:02:55.759172400Z"
    }
   },
   "id": "bb3dc787d044b494"
  },
  {
   "cell_type": "code",
   "execution_count": 6,
   "outputs": [],
   "source": [
    "cedear_data = pd.read_excel(\"data/cedear_ratios_reloaded.xlsx\", sheet_name=0)"
   ],
   "metadata": {
    "collapsed": false,
    "ExecuteTime": {
     "end_time": "2023-12-28T20:03:00.491260Z",
     "start_time": "2023-12-28T20:02:55.774813100Z"
    }
   },
   "id": "d9844c4fe564b9d1"
  },
  {
   "cell_type": "code",
   "execution_count": 7,
   "outputs": [],
   "source": [
    "df2 = df.merge(cedear_data, right_on=\"symbol\", left_on=\"Nombre\", how=\"left\")"
   ],
   "metadata": {
    "collapsed": false,
    "ExecuteTime": {
     "end_time": "2023-12-28T20:03:00.491260Z",
     "start_time": "2023-12-28T20:02:56.960657800Z"
    }
   },
   "id": "763719fc3392fbd"
  },
  {
   "cell_type": "code",
   "execution_count": 8,
   "outputs": [],
   "source": [
    "def find_price(stock_name):\n",
    "    if stock_name is None:\n",
    "        return 0.0\n",
    "    else:\n",
    "        return yf.download(stock_name, period=\"1d\", interval=\"1d\")[\"Adj Close\"].iloc[0]"
   ],
   "metadata": {
    "collapsed": false,
    "ExecuteTime": {
     "end_time": "2023-12-28T20:03:00.491260Z",
     "start_time": "2023-12-28T20:02:56.976300100Z"
    }
   },
   "id": "b2d0b36d133e7cda"
  },
  {
   "cell_type": "code",
   "execution_count": 9,
   "outputs": [],
   "source": [
    "df2[\"base_symbol\"] = df2[\"base_symbol\"].astype(str)"
   ],
   "metadata": {
    "collapsed": false,
    "ExecuteTime": {
     "end_time": "2023-12-28T20:03:00.491260Z",
     "start_time": "2023-12-28T20:02:56.997368300Z"
    }
   },
   "id": "e561bffad668c3a1"
  },
  {
   "cell_type": "code",
   "execution_count": 10,
   "outputs": [
    {
     "name": "stdout",
     "output_type": "stream",
     "text": [
      "[*********************100%%**********************]  1 of 1 completed\n",
      "[*********************100%%**********************]  1 of 1 completed\n",
      "[*********************100%%**********************]  1 of 1 completed\n",
      "[*********************100%%**********************]  1 of 1 completed\n",
      "[*********************100%%**********************]  1 of 1 completed\n",
      "[*********************100%%**********************]  1 of 1 completed\n",
      "[*********************100%%**********************]  1 of 1 completed\n",
      "[*********************100%%**********************]  1 of 1 completed\n"
     ]
    }
   ],
   "source": [
    "df2[\"base_asset_price\"] = df2[\"base_symbol\"].apply(find_price)"
   ],
   "metadata": {
    "collapsed": false,
    "ExecuteTime": {
     "end_time": "2023-12-28T20:03:05.993Z",
     "start_time": "2023-12-28T20:02:57.021383900Z"
    }
   },
   "id": "dda67aa26c74fd9"
  },
  {
   "cell_type": "code",
   "execution_count": 11,
   "outputs": [],
   "source": [
    "df2[\"this_asset_price\"] = df2[\"base_asset_price\"] / df2[\"ratio\"]"
   ],
   "metadata": {
    "collapsed": false,
    "ExecuteTime": {
     "end_time": "2023-12-28T20:03:06.080891700Z",
     "start_time": "2023-12-28T20:03:05.998002Z"
    }
   },
   "id": "ca5c85c944e817d9"
  },
  {
   "cell_type": "code",
   "execution_count": 12,
   "outputs": [],
   "source": [
    "df2.set_index(\"Nombre\", inplace=True)"
   ],
   "metadata": {
    "collapsed": false,
    "ExecuteTime": {
     "end_time": "2023-12-28T20:03:06.082894900Z",
     "start_time": "2023-12-28T20:03:06.009797300Z"
    }
   },
   "id": "45ee5c2400b94108"
  },
  {
   "cell_type": "code",
   "execution_count": 13,
   "outputs": [],
   "source": [
    "today_str = datetime.date.today().strftime(\"%m/%d/%Y\")\n",
    "ccl_dollar = pd.read_csv(\"data/dolar_ccl_historic.csv\", index_col=0)"
   ],
   "metadata": {
    "collapsed": false,
    "ExecuteTime": {
     "end_time": "2023-12-28T20:03:06.084294100Z",
     "start_time": "2023-12-28T20:03:06.025535800Z"
    }
   },
   "id": "e63a968ec25aa176"
  },
  {
   "cell_type": "code",
   "execution_count": 14,
   "outputs": [],
   "source": [
    "df2.loc[\"AR$\",\"this_asset_price\"] = 1 / ccl_dollar.loc[today_str, \"Referencia\"]\n",
    "df2.loc[\"US$ MEP\",\"this_asset_price\"] = 1\n"
   ],
   "metadata": {
    "collapsed": false,
    "ExecuteTime": {
     "end_time": "2023-12-28T20:03:06.125352600Z",
     "start_time": "2023-12-28T20:03:06.058030300Z"
    }
   },
   "id": "1c61f0e5307402a9"
  },
  {
   "cell_type": "code",
   "execution_count": 15,
   "outputs": [
    {
     "name": "stdout",
     "output_type": "stream",
     "text": [
      "[*********************100%%**********************]  1 of 1 completed"
     ]
    },
    {
     "name": "stderr",
     "output_type": "stream",
     "text": [
      "\n",
      "1 Failed download:\n",
      "['AL30D.BA']: Exception('%ticker%: No data found, symbol may be delisted')\n"
     ]
    },
    {
     "name": "stdout",
     "output_type": "stream",
     "text": [
      "[*********************100%%**********************]  1 of 1 completed"
     ]
    },
    {
     "name": "stderr",
     "output_type": "stream",
     "text": [
      "\n",
      "1 Failed download:\n",
      "['GD30D.BA']: Exception('%ticker%: No data found, symbol may be delisted')\n"
     ]
    },
    {
     "name": "stdout",
     "output_type": "stream",
     "text": []
    }
   ],
   "source": [
    "for index, row in df2.iterrows():\n",
    "    if pd.isna(row[\"this_asset_price\"]):\n",
    "        stock_name = index + \"D.BA\"\n",
    "        try:\n",
    "            price = yf.download(stock_name, period=\"1d\", interval=\"1d\")[\"Adj Close\"].iloc[0]\n",
    "            df2.loc[index,\"this_asset_price\"] = price\n",
    "        except:\n",
    "            pass\n"
   ],
   "metadata": {
    "collapsed": false,
    "ExecuteTime": {
     "end_time": "2023-12-28T20:03:08.890226Z",
     "start_time": "2023-12-28T20:03:06.088316600Z"
    }
   },
   "id": "4848043c8ddf6f87"
  },
  {
   "cell_type": "code",
   "execution_count": 16,
   "outputs": [
    {
     "data": {
      "text/plain": "         Cantidad  this_asset_price\nNombre                             \nAR$       1585.74          0.001045\nUS$ MEP   3744.58          1.000000\nSPY        349.00         23.849995\nDIA         86.00         18.869000\nDISN        17.00          7.535000\nINTC        10.00         10.073980\nAL30       255.00               NaN\nGD30       200.00               NaN",
      "text/html": "<div>\n<style scoped>\n    .dataframe tbody tr th:only-of-type {\n        vertical-align: middle;\n    }\n\n    .dataframe tbody tr th {\n        vertical-align: top;\n    }\n\n    .dataframe thead th {\n        text-align: right;\n    }\n</style>\n<table border=\"1\" class=\"dataframe\">\n  <thead>\n    <tr style=\"text-align: right;\">\n      <th></th>\n      <th>Cantidad</th>\n      <th>this_asset_price</th>\n    </tr>\n    <tr>\n      <th>Nombre</th>\n      <th></th>\n      <th></th>\n    </tr>\n  </thead>\n  <tbody>\n    <tr>\n      <th>AR$</th>\n      <td>1585.74</td>\n      <td>0.001045</td>\n    </tr>\n    <tr>\n      <th>US$ MEP</th>\n      <td>3744.58</td>\n      <td>1.000000</td>\n    </tr>\n    <tr>\n      <th>SPY</th>\n      <td>349.00</td>\n      <td>23.849995</td>\n    </tr>\n    <tr>\n      <th>DIA</th>\n      <td>86.00</td>\n      <td>18.869000</td>\n    </tr>\n    <tr>\n      <th>DISN</th>\n      <td>17.00</td>\n      <td>7.535000</td>\n    </tr>\n    <tr>\n      <th>INTC</th>\n      <td>10.00</td>\n      <td>10.073980</td>\n    </tr>\n    <tr>\n      <th>AL30</th>\n      <td>255.00</td>\n      <td>NaN</td>\n    </tr>\n    <tr>\n      <th>GD30</th>\n      <td>200.00</td>\n      <td>NaN</td>\n    </tr>\n  </tbody>\n</table>\n</div>"
     },
     "execution_count": 16,
     "metadata": {},
     "output_type": "execute_result"
    }
   ],
   "source": [
    "df2[[\"Cantidad\", \"this_asset_price\"]]\n"
   ],
   "metadata": {
    "collapsed": false,
    "ExecuteTime": {
     "end_time": "2023-12-28T20:03:08.895223100Z",
     "start_time": "2023-12-28T20:03:08.859662300Z"
    }
   },
   "id": "f77a55e55ad52866"
  },
  {
   "cell_type": "code",
   "execution_count": null,
   "outputs": [],
   "source": [
    "adsfasdf"
   ],
   "metadata": {
    "collapsed": false
   },
   "id": "bf311457ed6a3dc7"
  },
  {
   "cell_type": "code",
   "execution_count": 17,
   "outputs": [],
   "source": [
    "t =\"\"\"\n",
    "DIA\tCompra\tUS$ 18,25\t38\tUS$ 693,50\t48hs\tEjecutada\n",
    "AAPL\tCompra\tUS$ 19,30\t37\tUS$ 714,10\t48hs\tEjecutada\n",
    "DIA\tCompra\tUS$ 18,20\t52\tUS$ 946,40\t48hs\tEjecutada\n",
    "DIA\tCompra\tUS$ 18,20\t2\tUS$ 36,40\t48hs\tEjecutada\n",
    "AAPL\tVenta\tUS$ 19,55\t84\tUS$ 1.642,20\t48hs\tEjecutada\n",
    "DIA\tVenta\tUS$ 18,70\t54\tUS$ 0,00\t48hs\tCancelada\n",
    "AMZN\tVenta\tUS$ 1,05\t724\tUS$ 760,20\t48hs\tEjecutada\n",
    "SPY\tVenta\tUS$ 23,70\t415\tUS$ 0,00\t48hs\tCancelada\n",
    "AMZN\tVenta\tUS$ 1,05\t724\tUS$ 0,00\t48hs\tCancelada\n",
    "AMZN\tCompra\tUS$ 1,03\t29\tUS$ 29,87\t48hs\tEjecutada\n",
    "NVDA\tVenta\tUS$ 20,70\t1\tUS$ 20,70\t48hs\tEjecutada\n",
    "SPY\tCompra\tUS$ 23,35\t10\tUS$ 233,50\t48hs\tEjecutada\n",
    "NVDA\tCompra\tUS$ 20,45\t9\tUS$ 0,00\t48hs\tCancelada\n",
    "NVDA\tCompra\tUS$ 20,45\t1\tUS$ 20,45\t48hs\tEjecutada\n",
    "NVDA\tVenta\tUS$ 20,65\t12\tUS$ 247,80\t48hs\tEjecutada\n",
    "NVDA\tCompra\tUS$ 20,45\t9\tUS$ 184,05\t48hs\tEjecutada\n",
    "NVDA\tVenta\tUS$ 20,65\t2\tUS$ 0,00\t48hs\tCancelada\n",
    "NVDA\tVenta\tUS$ 20,65\t1\tUS$ 20,65\t48hs\tEjecutada\n",
    "NVDA\tCompra\tUS$ 20,45\t4\tUS$ 81,80\t48hs\tEjecutada\n",
    "SPY\tCompra\tUS$ 23,35\t1\tUS$ 23,35\t48hs\tEjecutada\n",
    "NVDA\tVenta\tUS$ 20,65\t6\tUS$ 123,90\t48hs\tEjecutada\n",
    "AMZN\tCompra\tUS$ 1,02\t156\tUS$ 0,00\t48hs\tCancelada\n",
    "AMZN\tCompra\tUS$ 1,02\t15\tUS$ 15,30\tCI\tEjecutada\n",
    "NVDA\tVenta\tUS$ 20,90\t6\tUS$ 0,00\t48hs\tCancelada\n",
    "SPY\tVenta\tUS$ 23,55\t123\tUS$ 0,00\tCI\tCancelada\n",
    "SPY\tCompra\tUS$ 23,35\t33\tUS$ 770,55\t48hs\tEjecutada\n",
    "SPY\tCompra\tUS$ 23,35\t2\tUS$ 46,70\t48hs\tEjecutada\n",
    "SPY\tCompra\tUS$ 23,35\t2\tUS$ 46,70\t48hs\tEjecutada\n",
    "SPY\tCompra\tUS$ 23,20\t10\tUS$ 0,00\tCI\tCancelada\n",
    "CVX\tVenta\tUS$ 19,00\t2\tUS$ 38,00\t48hs\tEjecutada\n",
    "SPY\tVenta\tUS$ 23,75\t91\tUS$ 0,00\tCI\tCancelada\n",
    "AAPL\tVenta\tUS$ 19,80\t84\tUS$ 0,00\t48hs\tCancelada\n",
    "SPY\tVenta\tUS$ 23,75\t214\tUS$ 0,00\t48hs\tCancelada\n",
    "SPY\tCompra\tUS$ 23,40\t260\tUS$ 6.084,00\t48hs\tEjecutada\n",
    "AMZN\tVenta\tUS$ 1,04\t205\tUS$ 213,20\tCI\tEjecutada\n",
    "DIA\tVenta\tUS$ 18,80\t54\tUS$ 0,00\t48hs\tCancelada\n",
    "SPY\tVenta\tUS$ 23,80\t132\tUS$ 3.141,60\t48hs\tEjecutada\n",
    "CVX\tVenta\tUS$ 19,90\t2\tUS$ 0,00\t48hs\tCancelada\n",
    "SPY\tCompra\tUS$ 23,30\t63\tUS$ 1.467,90\tCI\tEjecutada\n",
    "\"\"\""
   ],
   "metadata": {
    "collapsed": false,
    "ExecuteTime": {
     "end_time": "2023-12-28T20:03:08.923820200Z",
     "start_time": "2023-12-28T20:03:08.889226400Z"
    }
   },
   "id": "a783ffcbe375d503"
  },
  {
   "cell_type": "code",
   "execution_count": 18,
   "outputs": [
    {
     "data": {
      "text/plain": "       0       1          2    3             4     5          6\n0    DIA  Compra  US$ 18,25   38    US$ 693,50  48hs  Ejecutada\n1   AAPL  Compra  US$ 19,30   37    US$ 714,10  48hs  Ejecutada\n2    DIA  Compra  US$ 18,20   52    US$ 946,40  48hs  Ejecutada\n3    DIA  Compra  US$ 18,20    2     US$ 36,40  48hs  Ejecutada\n4   AAPL   Venta  US$ 19,55   84  US$ 1.642,20  48hs  Ejecutada\n5    DIA   Venta  US$ 18,70   54      US$ 0,00  48hs  Cancelada\n6   AMZN   Venta   US$ 1,05  724    US$ 760,20  48hs  Ejecutada\n7    SPY   Venta  US$ 23,70  415      US$ 0,00  48hs  Cancelada\n8   AMZN   Venta   US$ 1,05  724      US$ 0,00  48hs  Cancelada\n9   AMZN  Compra   US$ 1,03   29     US$ 29,87  48hs  Ejecutada\n10  NVDA   Venta  US$ 20,70    1     US$ 20,70  48hs  Ejecutada\n11   SPY  Compra  US$ 23,35   10    US$ 233,50  48hs  Ejecutada\n12  NVDA  Compra  US$ 20,45    9      US$ 0,00  48hs  Cancelada\n13  NVDA  Compra  US$ 20,45    1     US$ 20,45  48hs  Ejecutada\n14  NVDA   Venta  US$ 20,65   12    US$ 247,80  48hs  Ejecutada\n15  NVDA  Compra  US$ 20,45    9    US$ 184,05  48hs  Ejecutada\n16  NVDA   Venta  US$ 20,65    2      US$ 0,00  48hs  Cancelada\n17  NVDA   Venta  US$ 20,65    1     US$ 20,65  48hs  Ejecutada\n18  NVDA  Compra  US$ 20,45    4     US$ 81,80  48hs  Ejecutada\n19   SPY  Compra  US$ 23,35    1     US$ 23,35  48hs  Ejecutada\n20  NVDA   Venta  US$ 20,65    6    US$ 123,90  48hs  Ejecutada\n21  AMZN  Compra   US$ 1,02  156      US$ 0,00  48hs  Cancelada\n22  AMZN  Compra   US$ 1,02   15     US$ 15,30    CI  Ejecutada\n23  NVDA   Venta  US$ 20,90    6      US$ 0,00  48hs  Cancelada\n24   SPY   Venta  US$ 23,55  123      US$ 0,00    CI  Cancelada\n25   SPY  Compra  US$ 23,35   33    US$ 770,55  48hs  Ejecutada\n26   SPY  Compra  US$ 23,35    2     US$ 46,70  48hs  Ejecutada\n27   SPY  Compra  US$ 23,35    2     US$ 46,70  48hs  Ejecutada\n28   SPY  Compra  US$ 23,20   10      US$ 0,00    CI  Cancelada\n29   CVX   Venta  US$ 19,00    2     US$ 38,00  48hs  Ejecutada\n30   SPY   Venta  US$ 23,75   91      US$ 0,00    CI  Cancelada\n31  AAPL   Venta  US$ 19,80   84      US$ 0,00  48hs  Cancelada\n32   SPY   Venta  US$ 23,75  214      US$ 0,00  48hs  Cancelada\n33   SPY  Compra  US$ 23,40  260  US$ 6.084,00  48hs  Ejecutada\n34  AMZN   Venta   US$ 1,04  205    US$ 213,20    CI  Ejecutada\n35   DIA   Venta  US$ 18,80   54      US$ 0,00  48hs  Cancelada\n36   SPY   Venta  US$ 23,80  132  US$ 3.141,60  48hs  Ejecutada\n37   CVX   Venta  US$ 19,90    2      US$ 0,00  48hs  Cancelada\n38   SPY  Compra  US$ 23,30   63  US$ 1.467,90    CI  Ejecutada",
      "text/html": "<div>\n<style scoped>\n    .dataframe tbody tr th:only-of-type {\n        vertical-align: middle;\n    }\n\n    .dataframe tbody tr th {\n        vertical-align: top;\n    }\n\n    .dataframe thead th {\n        text-align: right;\n    }\n</style>\n<table border=\"1\" class=\"dataframe\">\n  <thead>\n    <tr style=\"text-align: right;\">\n      <th></th>\n      <th>0</th>\n      <th>1</th>\n      <th>2</th>\n      <th>3</th>\n      <th>4</th>\n      <th>5</th>\n      <th>6</th>\n    </tr>\n  </thead>\n  <tbody>\n    <tr>\n      <th>0</th>\n      <td>DIA</td>\n      <td>Compra</td>\n      <td>US$ 18,25</td>\n      <td>38</td>\n      <td>US$ 693,50</td>\n      <td>48hs</td>\n      <td>Ejecutada</td>\n    </tr>\n    <tr>\n      <th>1</th>\n      <td>AAPL</td>\n      <td>Compra</td>\n      <td>US$ 19,30</td>\n      <td>37</td>\n      <td>US$ 714,10</td>\n      <td>48hs</td>\n      <td>Ejecutada</td>\n    </tr>\n    <tr>\n      <th>2</th>\n      <td>DIA</td>\n      <td>Compra</td>\n      <td>US$ 18,20</td>\n      <td>52</td>\n      <td>US$ 946,40</td>\n      <td>48hs</td>\n      <td>Ejecutada</td>\n    </tr>\n    <tr>\n      <th>3</th>\n      <td>DIA</td>\n      <td>Compra</td>\n      <td>US$ 18,20</td>\n      <td>2</td>\n      <td>US$ 36,40</td>\n      <td>48hs</td>\n      <td>Ejecutada</td>\n    </tr>\n    <tr>\n      <th>4</th>\n      <td>AAPL</td>\n      <td>Venta</td>\n      <td>US$ 19,55</td>\n      <td>84</td>\n      <td>US$ 1.642,20</td>\n      <td>48hs</td>\n      <td>Ejecutada</td>\n    </tr>\n    <tr>\n      <th>5</th>\n      <td>DIA</td>\n      <td>Venta</td>\n      <td>US$ 18,70</td>\n      <td>54</td>\n      <td>US$ 0,00</td>\n      <td>48hs</td>\n      <td>Cancelada</td>\n    </tr>\n    <tr>\n      <th>6</th>\n      <td>AMZN</td>\n      <td>Venta</td>\n      <td>US$ 1,05</td>\n      <td>724</td>\n      <td>US$ 760,20</td>\n      <td>48hs</td>\n      <td>Ejecutada</td>\n    </tr>\n    <tr>\n      <th>7</th>\n      <td>SPY</td>\n      <td>Venta</td>\n      <td>US$ 23,70</td>\n      <td>415</td>\n      <td>US$ 0,00</td>\n      <td>48hs</td>\n      <td>Cancelada</td>\n    </tr>\n    <tr>\n      <th>8</th>\n      <td>AMZN</td>\n      <td>Venta</td>\n      <td>US$ 1,05</td>\n      <td>724</td>\n      <td>US$ 0,00</td>\n      <td>48hs</td>\n      <td>Cancelada</td>\n    </tr>\n    <tr>\n      <th>9</th>\n      <td>AMZN</td>\n      <td>Compra</td>\n      <td>US$ 1,03</td>\n      <td>29</td>\n      <td>US$ 29,87</td>\n      <td>48hs</td>\n      <td>Ejecutada</td>\n    </tr>\n    <tr>\n      <th>10</th>\n      <td>NVDA</td>\n      <td>Venta</td>\n      <td>US$ 20,70</td>\n      <td>1</td>\n      <td>US$ 20,70</td>\n      <td>48hs</td>\n      <td>Ejecutada</td>\n    </tr>\n    <tr>\n      <th>11</th>\n      <td>SPY</td>\n      <td>Compra</td>\n      <td>US$ 23,35</td>\n      <td>10</td>\n      <td>US$ 233,50</td>\n      <td>48hs</td>\n      <td>Ejecutada</td>\n    </tr>\n    <tr>\n      <th>12</th>\n      <td>NVDA</td>\n      <td>Compra</td>\n      <td>US$ 20,45</td>\n      <td>9</td>\n      <td>US$ 0,00</td>\n      <td>48hs</td>\n      <td>Cancelada</td>\n    </tr>\n    <tr>\n      <th>13</th>\n      <td>NVDA</td>\n      <td>Compra</td>\n      <td>US$ 20,45</td>\n      <td>1</td>\n      <td>US$ 20,45</td>\n      <td>48hs</td>\n      <td>Ejecutada</td>\n    </tr>\n    <tr>\n      <th>14</th>\n      <td>NVDA</td>\n      <td>Venta</td>\n      <td>US$ 20,65</td>\n      <td>12</td>\n      <td>US$ 247,80</td>\n      <td>48hs</td>\n      <td>Ejecutada</td>\n    </tr>\n    <tr>\n      <th>15</th>\n      <td>NVDA</td>\n      <td>Compra</td>\n      <td>US$ 20,45</td>\n      <td>9</td>\n      <td>US$ 184,05</td>\n      <td>48hs</td>\n      <td>Ejecutada</td>\n    </tr>\n    <tr>\n      <th>16</th>\n      <td>NVDA</td>\n      <td>Venta</td>\n      <td>US$ 20,65</td>\n      <td>2</td>\n      <td>US$ 0,00</td>\n      <td>48hs</td>\n      <td>Cancelada</td>\n    </tr>\n    <tr>\n      <th>17</th>\n      <td>NVDA</td>\n      <td>Venta</td>\n      <td>US$ 20,65</td>\n      <td>1</td>\n      <td>US$ 20,65</td>\n      <td>48hs</td>\n      <td>Ejecutada</td>\n    </tr>\n    <tr>\n      <th>18</th>\n      <td>NVDA</td>\n      <td>Compra</td>\n      <td>US$ 20,45</td>\n      <td>4</td>\n      <td>US$ 81,80</td>\n      <td>48hs</td>\n      <td>Ejecutada</td>\n    </tr>\n    <tr>\n      <th>19</th>\n      <td>SPY</td>\n      <td>Compra</td>\n      <td>US$ 23,35</td>\n      <td>1</td>\n      <td>US$ 23,35</td>\n      <td>48hs</td>\n      <td>Ejecutada</td>\n    </tr>\n    <tr>\n      <th>20</th>\n      <td>NVDA</td>\n      <td>Venta</td>\n      <td>US$ 20,65</td>\n      <td>6</td>\n      <td>US$ 123,90</td>\n      <td>48hs</td>\n      <td>Ejecutada</td>\n    </tr>\n    <tr>\n      <th>21</th>\n      <td>AMZN</td>\n      <td>Compra</td>\n      <td>US$ 1,02</td>\n      <td>156</td>\n      <td>US$ 0,00</td>\n      <td>48hs</td>\n      <td>Cancelada</td>\n    </tr>\n    <tr>\n      <th>22</th>\n      <td>AMZN</td>\n      <td>Compra</td>\n      <td>US$ 1,02</td>\n      <td>15</td>\n      <td>US$ 15,30</td>\n      <td>CI</td>\n      <td>Ejecutada</td>\n    </tr>\n    <tr>\n      <th>23</th>\n      <td>NVDA</td>\n      <td>Venta</td>\n      <td>US$ 20,90</td>\n      <td>6</td>\n      <td>US$ 0,00</td>\n      <td>48hs</td>\n      <td>Cancelada</td>\n    </tr>\n    <tr>\n      <th>24</th>\n      <td>SPY</td>\n      <td>Venta</td>\n      <td>US$ 23,55</td>\n      <td>123</td>\n      <td>US$ 0,00</td>\n      <td>CI</td>\n      <td>Cancelada</td>\n    </tr>\n    <tr>\n      <th>25</th>\n      <td>SPY</td>\n      <td>Compra</td>\n      <td>US$ 23,35</td>\n      <td>33</td>\n      <td>US$ 770,55</td>\n      <td>48hs</td>\n      <td>Ejecutada</td>\n    </tr>\n    <tr>\n      <th>26</th>\n      <td>SPY</td>\n      <td>Compra</td>\n      <td>US$ 23,35</td>\n      <td>2</td>\n      <td>US$ 46,70</td>\n      <td>48hs</td>\n      <td>Ejecutada</td>\n    </tr>\n    <tr>\n      <th>27</th>\n      <td>SPY</td>\n      <td>Compra</td>\n      <td>US$ 23,35</td>\n      <td>2</td>\n      <td>US$ 46,70</td>\n      <td>48hs</td>\n      <td>Ejecutada</td>\n    </tr>\n    <tr>\n      <th>28</th>\n      <td>SPY</td>\n      <td>Compra</td>\n      <td>US$ 23,20</td>\n      <td>10</td>\n      <td>US$ 0,00</td>\n      <td>CI</td>\n      <td>Cancelada</td>\n    </tr>\n    <tr>\n      <th>29</th>\n      <td>CVX</td>\n      <td>Venta</td>\n      <td>US$ 19,00</td>\n      <td>2</td>\n      <td>US$ 38,00</td>\n      <td>48hs</td>\n      <td>Ejecutada</td>\n    </tr>\n    <tr>\n      <th>30</th>\n      <td>SPY</td>\n      <td>Venta</td>\n      <td>US$ 23,75</td>\n      <td>91</td>\n      <td>US$ 0,00</td>\n      <td>CI</td>\n      <td>Cancelada</td>\n    </tr>\n    <tr>\n      <th>31</th>\n      <td>AAPL</td>\n      <td>Venta</td>\n      <td>US$ 19,80</td>\n      <td>84</td>\n      <td>US$ 0,00</td>\n      <td>48hs</td>\n      <td>Cancelada</td>\n    </tr>\n    <tr>\n      <th>32</th>\n      <td>SPY</td>\n      <td>Venta</td>\n      <td>US$ 23,75</td>\n      <td>214</td>\n      <td>US$ 0,00</td>\n      <td>48hs</td>\n      <td>Cancelada</td>\n    </tr>\n    <tr>\n      <th>33</th>\n      <td>SPY</td>\n      <td>Compra</td>\n      <td>US$ 23,40</td>\n      <td>260</td>\n      <td>US$ 6.084,00</td>\n      <td>48hs</td>\n      <td>Ejecutada</td>\n    </tr>\n    <tr>\n      <th>34</th>\n      <td>AMZN</td>\n      <td>Venta</td>\n      <td>US$ 1,04</td>\n      <td>205</td>\n      <td>US$ 213,20</td>\n      <td>CI</td>\n      <td>Ejecutada</td>\n    </tr>\n    <tr>\n      <th>35</th>\n      <td>DIA</td>\n      <td>Venta</td>\n      <td>US$ 18,80</td>\n      <td>54</td>\n      <td>US$ 0,00</td>\n      <td>48hs</td>\n      <td>Cancelada</td>\n    </tr>\n    <tr>\n      <th>36</th>\n      <td>SPY</td>\n      <td>Venta</td>\n      <td>US$ 23,80</td>\n      <td>132</td>\n      <td>US$ 3.141,60</td>\n      <td>48hs</td>\n      <td>Ejecutada</td>\n    </tr>\n    <tr>\n      <th>37</th>\n      <td>CVX</td>\n      <td>Venta</td>\n      <td>US$ 19,90</td>\n      <td>2</td>\n      <td>US$ 0,00</td>\n      <td>48hs</td>\n      <td>Cancelada</td>\n    </tr>\n    <tr>\n      <th>38</th>\n      <td>SPY</td>\n      <td>Compra</td>\n      <td>US$ 23,30</td>\n      <td>63</td>\n      <td>US$ 1.467,90</td>\n      <td>CI</td>\n      <td>Ejecutada</td>\n    </tr>\n  </tbody>\n</table>\n</div>"
     },
     "execution_count": 18,
     "metadata": {},
     "output_type": "execute_result"
    }
   ],
   "source": [
    "data = StringIO(t)\n",
    "df = pd.read_csv(data, delimiter='\\t', header=None)\n",
    "df"
   ],
   "metadata": {
    "collapsed": false,
    "ExecuteTime": {
     "end_time": "2023-12-28T20:03:09.067192800Z",
     "start_time": "2023-12-28T20:03:08.904227700Z"
    }
   },
   "id": "43f308dd234f5665"
  },
  {
   "cell_type": "code",
   "execution_count": 19,
   "outputs": [],
   "source": [
    "df.columns = [\"Especie\", \"Operación\",   \"Precio\",  \"Cantidad\",    \"Total operación\",   \"Plazo\",   \"Estado\"]"
   ],
   "metadata": {
    "collapsed": false,
    "ExecuteTime": {
     "end_time": "2023-12-28T20:03:09.069192500Z",
     "start_time": "2023-12-28T20:03:08.951751800Z"
    }
   },
   "id": "25f54f8c95ae1b36"
  },
  {
   "cell_type": "code",
   "execution_count": 20,
   "outputs": [],
   "source": [
    "replacement_mapping = {'Compra': 1, 'Venta': -1}\n",
    "df['Operación'] = df['Operación'].replace(replacement_mapping)"
   ],
   "metadata": {
    "collapsed": false,
    "ExecuteTime": {
     "end_time": "2023-12-28T20:03:09.070190900Z",
     "start_time": "2023-12-28T20:03:08.967272100Z"
    }
   },
   "id": "c8c2d3d7cdb33437"
  },
  {
   "cell_type": "code",
   "execution_count": 21,
   "outputs": [],
   "source": [
    "df[\"Tot\"] = df['Operación'] * df['Cantidad']"
   ],
   "metadata": {
    "collapsed": false,
    "ExecuteTime": {
     "end_time": "2023-12-28T20:03:09.137278600Z",
     "start_time": "2023-12-28T20:03:08.982534Z"
    }
   },
   "id": "271dfb245df8c0f0"
  },
  {
   "cell_type": "code",
   "execution_count": 22,
   "outputs": [
    {
     "data": {
      "text/plain": "         Tot\nEspecie     \nAAPL     -47\nAMZN    -885\nCVX       -2\nDIA       92\nNVDA      -6\nSPY      239",
      "text/html": "<div>\n<style scoped>\n    .dataframe tbody tr th:only-of-type {\n        vertical-align: middle;\n    }\n\n    .dataframe tbody tr th {\n        vertical-align: top;\n    }\n\n    .dataframe thead th {\n        text-align: right;\n    }\n</style>\n<table border=\"1\" class=\"dataframe\">\n  <thead>\n    <tr style=\"text-align: right;\">\n      <th></th>\n      <th>Tot</th>\n    </tr>\n    <tr>\n      <th>Especie</th>\n      <th></th>\n    </tr>\n  </thead>\n  <tbody>\n    <tr>\n      <th>AAPL</th>\n      <td>-47</td>\n    </tr>\n    <tr>\n      <th>AMZN</th>\n      <td>-885</td>\n    </tr>\n    <tr>\n      <th>CVX</th>\n      <td>-2</td>\n    </tr>\n    <tr>\n      <th>DIA</th>\n      <td>92</td>\n    </tr>\n    <tr>\n      <th>NVDA</th>\n      <td>-6</td>\n    </tr>\n    <tr>\n      <th>SPY</th>\n      <td>239</td>\n    </tr>\n  </tbody>\n</table>\n</div>"
     },
     "execution_count": 22,
     "metadata": {},
     "output_type": "execute_result"
    }
   ],
   "source": [
    "df[df[\"Estado\"] == \"Ejecutada\"].groupby(\"Especie\").agg({\"Tot\": \"sum\"})"
   ],
   "metadata": {
    "collapsed": false,
    "ExecuteTime": {
     "end_time": "2023-12-28T20:03:09.184195500Z",
     "start_time": "2023-12-28T20:03:08.998571500Z"
    }
   },
   "id": "d0f2eaafe20da1bd"
  },
  {
   "cell_type": "code",
   "execution_count": 23,
   "outputs": [
    {
     "data": {
      "text/plain": "Especie            object\nOperación           int64\nPrecio             object\nCantidad            int64\nTotal operación    object\nPlazo              object\nEstado             object\nTot                 int64\ndtype: object"
     },
     "execution_count": 23,
     "metadata": {},
     "output_type": "execute_result"
    }
   ],
   "source": [
    "df.dtypes"
   ],
   "metadata": {
    "collapsed": false,
    "ExecuteTime": {
     "end_time": "2023-12-28T20:03:09.211781900Z",
     "start_time": "2023-12-28T20:03:09.030577200Z"
    }
   },
   "id": "12f386b5a912d7dd"
  }
 ],
 "metadata": {
  "kernelspec": {
   "display_name": "Python 3",
   "language": "python",
   "name": "python3"
  },
  "language_info": {
   "codemirror_mode": {
    "name": "ipython",
    "version": 2
   },
   "file_extension": ".py",
   "mimetype": "text/x-python",
   "name": "python",
   "nbconvert_exporter": "python",
   "pygments_lexer": "ipython2",
   "version": "2.7.6"
  }
 },
 "nbformat": 4,
 "nbformat_minor": 5
}
