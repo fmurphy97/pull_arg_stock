{
 "cells": [
  {
   "cell_type": "code",
   "execution_count": 77,
   "id": "initial_id",
   "metadata": {
    "collapsed": true,
    "ExecuteTime": {
     "end_time": "2023-12-15T20:48:38.824856900Z",
     "start_time": "2023-12-15T20:48:38.790330900Z"
    }
   },
   "outputs": [],
   "source": [
    "import pandas as pd\n",
    "import datetime\n",
    "import re\n",
    "import yfinance as yf\n",
    "from io import StringIO\n"
   ]
  },
  {
   "cell_type": "code",
   "execution_count": 93,
   "outputs": [],
   "source": [
    "table_txt = \"\"\"\n",
    "Nombre\tVariación diaria\tÚltimo Operado AR$\tCantidad\tTenencia US$\n",
    "AR$\t0.00%\t1,00\t10.725,15\t0,08 %\n",
    "US$ MEP\t0.00%\t1.022,22\t5.230,32\t39,90 %\n",
    "SPY\t-1.30%\t23.376,50\t177,00\t30,88 %\n",
    "AAPL\t-2.35%\t19.633,50\t84,00\t12,31 %\n",
    "DIA\t-1.79%\t18.585,00\t54,00\t7,49 %\n",
    "AMZN\t-0.63%\t1.030,00\t885,00\t6,80 %\n",
    "NVDA\t+0.11%\t20.376,50\t6,00\t0,91 %\n",
    "CVX\t-2.72%\t18.486,00\t2,00\t0,28 %\n",
    "AL30\t-2.76%\t38.868,50\t255,00\t0,74 %\n",
    "GD30\t-4.07%\t41.200,00\t200,00\t0,61 %\n",
    "\"\"\""
   ],
   "metadata": {
    "collapsed": false,
    "ExecuteTime": {
     "end_time": "2023-12-15T21:19:39.009762600Z",
     "start_time": "2023-12-15T21:19:38.993723700Z"
    }
   },
   "id": "be011752f111f6bb"
  },
  {
   "cell_type": "code",
   "execution_count": 94,
   "outputs": [
    {
     "data": {
      "text/plain": "       SPY  Compra      US$ 23,40   54       US$ 0,00  48hs  Cancelada\n0      DIA  Compra      US$ 18,60   11     US$ 204,60  48hs  Ejecutada\n1     AAPL  Compra      US$ 19,65    4      US$ 78,60  48hs  Ejecutada\n2     AAPL   Venta      US$ 19,80   60   US$ 1.188,00  48hs  Ejecutada\n3    MRCQO   Venta      US$ 98,00   31      US$ 30,38  48hs  Ejecutada\n4     AAPL  Compra      US$ 19,65   90   US$ 1.768,50  48hs  Ejecutada\n..     ...     ...            ...  ...            ...   ...        ...\n68     SPY   Venta      US$ 23,70   64   US$ 1.516,80  48hs  Ejecutada\n69     SPY  Compra      US$ 23,30   36     US$ 838,80  48hs  Ejecutada\n70     SPY  Compra      US$ 23,30   33     US$ 768,90    CI  Ejecutada\n71     SPY   Venta      US$ 23,85  251       US$ 0,00  48hs  Cancelada\n72     SPY   Venta  AR$ 23.600,00    2  AR$ 47.200,00  48hs  Ejecutada\n\n[73 rows x 7 columns]",
      "text/html": "<div>\n<style scoped>\n    .dataframe tbody tr th:only-of-type {\n        vertical-align: middle;\n    }\n\n    .dataframe tbody tr th {\n        vertical-align: top;\n    }\n\n    .dataframe thead th {\n        text-align: right;\n    }\n</style>\n<table border=\"1\" class=\"dataframe\">\n  <thead>\n    <tr style=\"text-align: right;\">\n      <th></th>\n      <th>SPY</th>\n      <th>Compra</th>\n      <th>US$ 23,40</th>\n      <th>54</th>\n      <th>US$ 0,00</th>\n      <th>48hs</th>\n      <th>Cancelada</th>\n    </tr>\n  </thead>\n  <tbody>\n    <tr>\n      <th>0</th>\n      <td>DIA</td>\n      <td>Compra</td>\n      <td>US$ 18,60</td>\n      <td>11</td>\n      <td>US$ 204,60</td>\n      <td>48hs</td>\n      <td>Ejecutada</td>\n    </tr>\n    <tr>\n      <th>1</th>\n      <td>AAPL</td>\n      <td>Compra</td>\n      <td>US$ 19,65</td>\n      <td>4</td>\n      <td>US$ 78,60</td>\n      <td>48hs</td>\n      <td>Ejecutada</td>\n    </tr>\n    <tr>\n      <th>2</th>\n      <td>AAPL</td>\n      <td>Venta</td>\n      <td>US$ 19,80</td>\n      <td>60</td>\n      <td>US$ 1.188,00</td>\n      <td>48hs</td>\n      <td>Ejecutada</td>\n    </tr>\n    <tr>\n      <th>3</th>\n      <td>MRCQO</td>\n      <td>Venta</td>\n      <td>US$ 98,00</td>\n      <td>31</td>\n      <td>US$ 30,38</td>\n      <td>48hs</td>\n      <td>Ejecutada</td>\n    </tr>\n    <tr>\n      <th>4</th>\n      <td>AAPL</td>\n      <td>Compra</td>\n      <td>US$ 19,65</td>\n      <td>90</td>\n      <td>US$ 1.768,50</td>\n      <td>48hs</td>\n      <td>Ejecutada</td>\n    </tr>\n    <tr>\n      <th>...</th>\n      <td>...</td>\n      <td>...</td>\n      <td>...</td>\n      <td>...</td>\n      <td>...</td>\n      <td>...</td>\n      <td>...</td>\n    </tr>\n    <tr>\n      <th>68</th>\n      <td>SPY</td>\n      <td>Venta</td>\n      <td>US$ 23,70</td>\n      <td>64</td>\n      <td>US$ 1.516,80</td>\n      <td>48hs</td>\n      <td>Ejecutada</td>\n    </tr>\n    <tr>\n      <th>69</th>\n      <td>SPY</td>\n      <td>Compra</td>\n      <td>US$ 23,30</td>\n      <td>36</td>\n      <td>US$ 838,80</td>\n      <td>48hs</td>\n      <td>Ejecutada</td>\n    </tr>\n    <tr>\n      <th>70</th>\n      <td>SPY</td>\n      <td>Compra</td>\n      <td>US$ 23,30</td>\n      <td>33</td>\n      <td>US$ 768,90</td>\n      <td>CI</td>\n      <td>Ejecutada</td>\n    </tr>\n    <tr>\n      <th>71</th>\n      <td>SPY</td>\n      <td>Venta</td>\n      <td>US$ 23,85</td>\n      <td>251</td>\n      <td>US$ 0,00</td>\n      <td>48hs</td>\n      <td>Cancelada</td>\n    </tr>\n    <tr>\n      <th>72</th>\n      <td>SPY</td>\n      <td>Venta</td>\n      <td>AR$ 23.600,00</td>\n      <td>2</td>\n      <td>AR$ 47.200,00</td>\n      <td>48hs</td>\n      <td>Ejecutada</td>\n    </tr>\n  </tbody>\n</table>\n<p>73 rows × 7 columns</p>\n</div>"
     },
     "execution_count": 94,
     "metadata": {},
     "output_type": "execute_result"
    }
   ],
   "source": [
    "data = StringIO(table_txt)\n",
    "df = pd.read_csv(data, delimiter='\\t')\n",
    "df"
   ],
   "metadata": {
    "collapsed": false,
    "ExecuteTime": {
     "end_time": "2023-12-15T21:19:39.386326100Z",
     "start_time": "2023-12-15T21:19:39.349430800Z"
    }
   },
   "id": "bf1be266fc10c1d6"
  },
  {
   "cell_type": "code",
   "execution_count": 95,
   "outputs": [],
   "source": [
    "def correct_str(input_str):\n",
    "    input_str = input_str.replace(\".\", \"\")\n",
    "    input_str = input_str.replace(\",\", \".\")\n",
    "\n",
    "    input_str = re.sub(\"[^0-9^.]\", \"\", input_str)\n",
    "\n",
    "    if input_str == '':\n",
    "        input_str = 0.0\n",
    "    return float(input_str)"
   ],
   "metadata": {
    "collapsed": false,
    "ExecuteTime": {
     "end_time": "2023-12-15T21:19:46.667274500Z",
     "start_time": "2023-12-15T21:19:46.651631400Z"
    }
   },
   "id": "fbb3278a80e8b91c"
  },
  {
   "cell_type": "code",
   "execution_count": 81,
   "outputs": [],
   "source": [
    "for col in df.columns:\n",
    "    if col != \"Nombre\":\n",
    "        df[col] = df[col].apply(correct_str)"
   ],
   "metadata": {
    "collapsed": false,
    "ExecuteTime": {
     "end_time": "2023-12-15T20:48:38.885489900Z",
     "start_time": "2023-12-15T20:48:38.869128900Z"
    }
   },
   "id": "bb3dc787d044b494"
  },
  {
   "cell_type": "code",
   "execution_count": 82,
   "outputs": [],
   "source": [
    "cedear_data = pd.read_excel(\"data/cedear_ratios_reloaded.xlsx\", sheet_name=0)"
   ],
   "metadata": {
    "collapsed": false,
    "ExecuteTime": {
     "end_time": "2023-12-15T20:48:39.137997400Z",
     "start_time": "2023-12-15T20:48:38.885489900Z"
    }
   },
   "id": "d9844c4fe564b9d1"
  },
  {
   "cell_type": "code",
   "execution_count": 83,
   "outputs": [],
   "source": [
    "df2 = df.merge(cedear_data, right_on=\"symbol\", left_on=\"Nombre\", how=\"left\")"
   ],
   "metadata": {
    "collapsed": false,
    "ExecuteTime": {
     "end_time": "2023-12-15T20:48:39.168544300Z",
     "start_time": "2023-12-15T20:48:39.137997400Z"
    }
   },
   "id": "763719fc3392fbd"
  },
  {
   "cell_type": "code",
   "execution_count": 84,
   "outputs": [],
   "source": [
    "def find_price(stock_name):\n",
    "    if stock_name is None:\n",
    "        return 0.0\n",
    "    else:\n",
    "        return yf.download(stock_name, period=\"1d\", interval=\"1d\")[\"Adj Close\"].iloc[0]"
   ],
   "metadata": {
    "collapsed": false,
    "ExecuteTime": {
     "end_time": "2023-12-15T20:48:39.170401400Z",
     "start_time": "2023-12-15T20:48:39.154032500Z"
    }
   },
   "id": "b2d0b36d133e7cda"
  },
  {
   "cell_type": "code",
   "execution_count": 85,
   "outputs": [],
   "source": [
    "df2[\"base_symbol\"] = df2[\"base_symbol\"].astype(str)"
   ],
   "metadata": {
    "collapsed": false,
    "ExecuteTime": {
     "end_time": "2023-12-15T20:48:39.200228Z",
     "start_time": "2023-12-15T20:48:39.170401400Z"
    }
   },
   "id": "e561bffad668c3a1"
  },
  {
   "cell_type": "code",
   "execution_count": 86,
   "outputs": [
    {
     "name": "stdout",
     "output_type": "stream",
     "text": [
      "[*********************100%%**********************]  1 of 1 completed\n",
      "[*********************100%%**********************]  1 of 1 completed\n",
      "[*********************100%%**********************]  1 of 1 completed\n",
      "[*********************100%%**********************]  1 of 1 completed\n",
      "[*********************100%%**********************]  1 of 1 completed\n",
      "[*********************100%%**********************]  1 of 1 completed\n",
      "[*********************100%%**********************]  1 of 1 completed\n",
      "[*********************100%%**********************]  1 of 1 completed\n",
      "[*********************100%%**********************]  1 of 1 completed\n",
      "[*********************100%%**********************]  1 of 1 completed\n"
     ]
    },
    {
     "data": {
      "text/plain": "    Nombre  Variación diaria  Último Operado AR$  Cantidad  Tenencia US$  \\\n0      AR$               0.0                1.00  10725.15          0.08   \n1  US$ MEP               0.0             1022.22   5230.32         39.90   \n2      SPY             130.0            23376.50    177.00         30.88   \n3     AAPL             235.0            19633.50     84.00         12.31   \n4      DIA             179.0            18585.00     54.00          7.49   \n5     AMZN              63.0             1030.00    885.00          6.80   \n6     NVDA              11.0            20376.50      6.00          0.91   \n7      CVX             272.0            18486.00      2.00          0.28   \n8     AL30             276.0            38868.50    255.00          0.74   \n9     GD30             407.0            41200.00    200.00          0.61   \n\n  symbol base_symbol  ratio  aux  type currency  base_asset_price  \n0    NaN         nan    NaN  NaN   NaN      NaN         10.835000  \n1    NaN         nan    NaN  NaN   NaN      NaN         10.835000  \n2    SPY         SPY   20.0    Y  base      ARS        469.295013  \n3   AAPL        AAPL   10.0    L  base      ARS        198.110001  \n4    DIA         DIA   20.0    A  base      ARS        372.279999  \n5   AMZN        AMZN  144.0    N  base      ARS        150.066299  \n6   NVDA        NVDA   24.0    A  base      ARS        490.100006  \n7    CVX         CVX    8.0    X  base      ARS        148.559906  \n8    NaN         nan    NaN  NaN   NaN      NaN         10.835000  \n9    NaN         nan    NaN  NaN   NaN      NaN         10.835000  ",
      "text/html": "<div>\n<style scoped>\n    .dataframe tbody tr th:only-of-type {\n        vertical-align: middle;\n    }\n\n    .dataframe tbody tr th {\n        vertical-align: top;\n    }\n\n    .dataframe thead th {\n        text-align: right;\n    }\n</style>\n<table border=\"1\" class=\"dataframe\">\n  <thead>\n    <tr style=\"text-align: right;\">\n      <th></th>\n      <th>Nombre</th>\n      <th>Variación diaria</th>\n      <th>Último Operado AR$</th>\n      <th>Cantidad</th>\n      <th>Tenencia US$</th>\n      <th>symbol</th>\n      <th>base_symbol</th>\n      <th>ratio</th>\n      <th>aux</th>\n      <th>type</th>\n      <th>currency</th>\n      <th>base_asset_price</th>\n    </tr>\n  </thead>\n  <tbody>\n    <tr>\n      <th>0</th>\n      <td>AR$</td>\n      <td>0.0</td>\n      <td>1.00</td>\n      <td>10725.15</td>\n      <td>0.08</td>\n      <td>NaN</td>\n      <td>nan</td>\n      <td>NaN</td>\n      <td>NaN</td>\n      <td>NaN</td>\n      <td>NaN</td>\n      <td>10.835000</td>\n    </tr>\n    <tr>\n      <th>1</th>\n      <td>US$ MEP</td>\n      <td>0.0</td>\n      <td>1022.22</td>\n      <td>5230.32</td>\n      <td>39.90</td>\n      <td>NaN</td>\n      <td>nan</td>\n      <td>NaN</td>\n      <td>NaN</td>\n      <td>NaN</td>\n      <td>NaN</td>\n      <td>10.835000</td>\n    </tr>\n    <tr>\n      <th>2</th>\n      <td>SPY</td>\n      <td>130.0</td>\n      <td>23376.50</td>\n      <td>177.00</td>\n      <td>30.88</td>\n      <td>SPY</td>\n      <td>SPY</td>\n      <td>20.0</td>\n      <td>Y</td>\n      <td>base</td>\n      <td>ARS</td>\n      <td>469.295013</td>\n    </tr>\n    <tr>\n      <th>3</th>\n      <td>AAPL</td>\n      <td>235.0</td>\n      <td>19633.50</td>\n      <td>84.00</td>\n      <td>12.31</td>\n      <td>AAPL</td>\n      <td>AAPL</td>\n      <td>10.0</td>\n      <td>L</td>\n      <td>base</td>\n      <td>ARS</td>\n      <td>198.110001</td>\n    </tr>\n    <tr>\n      <th>4</th>\n      <td>DIA</td>\n      <td>179.0</td>\n      <td>18585.00</td>\n      <td>54.00</td>\n      <td>7.49</td>\n      <td>DIA</td>\n      <td>DIA</td>\n      <td>20.0</td>\n      <td>A</td>\n      <td>base</td>\n      <td>ARS</td>\n      <td>372.279999</td>\n    </tr>\n    <tr>\n      <th>5</th>\n      <td>AMZN</td>\n      <td>63.0</td>\n      <td>1030.00</td>\n      <td>885.00</td>\n      <td>6.80</td>\n      <td>AMZN</td>\n      <td>AMZN</td>\n      <td>144.0</td>\n      <td>N</td>\n      <td>base</td>\n      <td>ARS</td>\n      <td>150.066299</td>\n    </tr>\n    <tr>\n      <th>6</th>\n      <td>NVDA</td>\n      <td>11.0</td>\n      <td>20376.50</td>\n      <td>6.00</td>\n      <td>0.91</td>\n      <td>NVDA</td>\n      <td>NVDA</td>\n      <td>24.0</td>\n      <td>A</td>\n      <td>base</td>\n      <td>ARS</td>\n      <td>490.100006</td>\n    </tr>\n    <tr>\n      <th>7</th>\n      <td>CVX</td>\n      <td>272.0</td>\n      <td>18486.00</td>\n      <td>2.00</td>\n      <td>0.28</td>\n      <td>CVX</td>\n      <td>CVX</td>\n      <td>8.0</td>\n      <td>X</td>\n      <td>base</td>\n      <td>ARS</td>\n      <td>148.559906</td>\n    </tr>\n    <tr>\n      <th>8</th>\n      <td>AL30</td>\n      <td>276.0</td>\n      <td>38868.50</td>\n      <td>255.00</td>\n      <td>0.74</td>\n      <td>NaN</td>\n      <td>nan</td>\n      <td>NaN</td>\n      <td>NaN</td>\n      <td>NaN</td>\n      <td>NaN</td>\n      <td>10.835000</td>\n    </tr>\n    <tr>\n      <th>9</th>\n      <td>GD30</td>\n      <td>407.0</td>\n      <td>41200.00</td>\n      <td>200.00</td>\n      <td>0.61</td>\n      <td>NaN</td>\n      <td>nan</td>\n      <td>NaN</td>\n      <td>NaN</td>\n      <td>NaN</td>\n      <td>NaN</td>\n      <td>10.835000</td>\n    </tr>\n  </tbody>\n</table>\n</div>"
     },
     "execution_count": 86,
     "metadata": {},
     "output_type": "execute_result"
    }
   ],
   "source": [
    "df2[\"base_asset_price\"] = df2[\"base_symbol\"].apply(find_price)"
   ],
   "metadata": {
    "collapsed": false,
    "ExecuteTime": {
     "end_time": "2023-12-15T20:48:45.558678400Z",
     "start_time": "2023-12-15T20:48:39.188216100Z"
    }
   },
   "id": "dda67aa26c74fd9"
  },
  {
   "cell_type": "code",
   "execution_count": 87,
   "outputs": [],
   "source": [
    "df2[\"this_asset_price\"] = df2[\"base_asset_price\"] / df2[\"ratio\"]"
   ],
   "metadata": {
    "collapsed": false,
    "ExecuteTime": {
     "end_time": "2023-12-15T20:48:45.573688400Z",
     "start_time": "2023-12-15T20:48:45.558678400Z"
    }
   },
   "id": "ca5c85c944e817d9"
  },
  {
   "cell_type": "code",
   "execution_count": 88,
   "outputs": [],
   "source": [
    "df2.set_index(\"Nombre\", inplace=True)"
   ],
   "metadata": {
    "collapsed": false,
    "ExecuteTime": {
     "end_time": "2023-12-15T20:48:45.668558200Z",
     "start_time": "2023-12-15T20:48:45.573688400Z"
    }
   },
   "id": "45ee5c2400b94108"
  },
  {
   "cell_type": "code",
   "execution_count": 89,
   "outputs": [],
   "source": [
    "today_str = datetime.date.today().strftime(\"%m/%d/%Y\")\n",
    "ccl_dollar = pd.read_csv(\"data/dolar_ccl_historic.csv\", index_col=0)"
   ],
   "metadata": {
    "collapsed": false,
    "ExecuteTime": {
     "end_time": "2023-12-15T20:48:45.684077500Z",
     "start_time": "2023-12-15T20:48:45.589862900Z"
    }
   },
   "id": "e63a968ec25aa176"
  },
  {
   "cell_type": "code",
   "execution_count": 90,
   "outputs": [],
   "source": [
    "df2.loc[\"AR$\",\"this_asset_price\"] = 1 / ccl_dollar.loc[today_str, \"Referencia\"]\n",
    "df2.loc[\"US$ MEP\",\"this_asset_price\"] = 1\n"
   ],
   "metadata": {
    "collapsed": false,
    "ExecuteTime": {
     "end_time": "2023-12-15T20:48:45.717757600Z",
     "start_time": "2023-12-15T20:48:45.605377300Z"
    }
   },
   "id": "1c61f0e5307402a9"
  },
  {
   "cell_type": "code",
   "execution_count": 91,
   "outputs": [
    {
     "name": "stdout",
     "output_type": "stream",
     "text": [
      "[*********************100%%**********************]  1 of 1 completed"
     ]
    },
    {
     "name": "stderr",
     "output_type": "stream",
     "text": [
      "\n",
      "1 Failed download:\n",
      "['AL30D.BA']: Exception('%ticker%: No data found, symbol may be delisted')\n"
     ]
    },
    {
     "name": "stdout",
     "output_type": "stream",
     "text": [
      "[*********************100%%**********************]  1 of 1 completed"
     ]
    },
    {
     "name": "stderr",
     "output_type": "stream",
     "text": [
      "\n",
      "1 Failed download:\n",
      "['GD30D.BA']: Exception('%ticker%: No data found, symbol may be delisted')\n"
     ]
    },
    {
     "name": "stdout",
     "output_type": "stream",
     "text": []
    }
   ],
   "source": [
    "for index, row in df2.iterrows():\n",
    "    if pd.isna(row[\"this_asset_price\"]):\n",
    "        stock_name = index + \"D.BA\"\n",
    "        try:\n",
    "            price = yf.download(stock_name, period=\"1d\", interval=\"1d\")[\"Adj Close\"].iloc[0]\n",
    "            df2.loc[index,\"this_asset_price\"] = price\n",
    "        except:\n",
    "            pass\n"
   ],
   "metadata": {
    "collapsed": false,
    "ExecuteTime": {
     "end_time": "2023-12-15T20:48:48.075920700Z",
     "start_time": "2023-12-15T20:48:45.621115Z"
    }
   },
   "id": "4848043c8ddf6f87"
  },
  {
   "cell_type": "code",
   "execution_count": 92,
   "outputs": [
    {
     "data": {
      "text/plain": "         Cantidad  this_asset_price\nNombre                             \nAR$      10725.15          0.001005\nUS$ MEP   5230.32          1.000000\nSPY        177.00         23.464751\nAAPL        84.00         19.811000\nDIA         54.00         18.614000\nAMZN       885.00          1.042127\nNVDA         6.00         20.420834\nCVX          2.00         18.569988\nAL30       255.00               NaN\nGD30       200.00               NaN",
      "text/html": "<div>\n<style scoped>\n    .dataframe tbody tr th:only-of-type {\n        vertical-align: middle;\n    }\n\n    .dataframe tbody tr th {\n        vertical-align: top;\n    }\n\n    .dataframe thead th {\n        text-align: right;\n    }\n</style>\n<table border=\"1\" class=\"dataframe\">\n  <thead>\n    <tr style=\"text-align: right;\">\n      <th></th>\n      <th>Cantidad</th>\n      <th>this_asset_price</th>\n    </tr>\n    <tr>\n      <th>Nombre</th>\n      <th></th>\n      <th></th>\n    </tr>\n  </thead>\n  <tbody>\n    <tr>\n      <th>AR$</th>\n      <td>10725.15</td>\n      <td>0.001005</td>\n    </tr>\n    <tr>\n      <th>US$ MEP</th>\n      <td>5230.32</td>\n      <td>1.000000</td>\n    </tr>\n    <tr>\n      <th>SPY</th>\n      <td>177.00</td>\n      <td>23.464751</td>\n    </tr>\n    <tr>\n      <th>AAPL</th>\n      <td>84.00</td>\n      <td>19.811000</td>\n    </tr>\n    <tr>\n      <th>DIA</th>\n      <td>54.00</td>\n      <td>18.614000</td>\n    </tr>\n    <tr>\n      <th>AMZN</th>\n      <td>885.00</td>\n      <td>1.042127</td>\n    </tr>\n    <tr>\n      <th>NVDA</th>\n      <td>6.00</td>\n      <td>20.420834</td>\n    </tr>\n    <tr>\n      <th>CVX</th>\n      <td>2.00</td>\n      <td>18.569988</td>\n    </tr>\n    <tr>\n      <th>AL30</th>\n      <td>255.00</td>\n      <td>NaN</td>\n    </tr>\n    <tr>\n      <th>GD30</th>\n      <td>200.00</td>\n      <td>NaN</td>\n    </tr>\n  </tbody>\n</table>\n</div>"
     },
     "execution_count": 92,
     "metadata": {},
     "output_type": "execute_result"
    }
   ],
   "source": [
    "df2[[\"Cantidad\", \"this_asset_price\"]]\n"
   ],
   "metadata": {
    "collapsed": false,
    "ExecuteTime": {
     "end_time": "2023-12-15T20:48:48.091640500Z",
     "start_time": "2023-12-15T20:48:48.075920700Z"
    }
   },
   "id": "f77a55e55ad52866"
  }
 ],
 "metadata": {
  "kernelspec": {
   "display_name": "Python 3",
   "language": "python",
   "name": "python3"
  },
  "language_info": {
   "codemirror_mode": {
    "name": "ipython",
    "version": 2
   },
   "file_extension": ".py",
   "mimetype": "text/x-python",
   "name": "python",
   "nbconvert_exporter": "python",
   "pygments_lexer": "ipython2",
   "version": "2.7.6"
  }
 },
 "nbformat": 4,
 "nbformat_minor": 5
}
