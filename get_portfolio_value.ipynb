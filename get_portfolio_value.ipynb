{
 "cells": [
  {
   "cell_type": "code",
   "execution_count": 1,
   "id": "initial_id",
   "metadata": {
    "collapsed": true,
    "ExecuteTime": {
     "end_time": "2024-01-03T20:01:29.727749900Z",
     "start_time": "2024-01-03T20:01:27.693328600Z"
    }
   },
   "outputs": [],
   "source": [
    "import pandas as pd\n",
    "import datetime\n",
    "import re\n",
    "import yfinance as yf\n",
    "from io import StringIO\n"
   ]
  },
  {
   "cell_type": "code",
   "execution_count": 2,
   "outputs": [],
   "source": [
    "table_txt = \"\"\"\n",
    "\tNombre\tVariación diaria\tÚltimo Operado AR$\tCantidad\tTenencia US$\n",
    "\tAR$\t0.00%\t1,00\t284,46\t0,28\n",
    "\tUS$ MEP\t0.00%\t1.023,62\t13.510,17\t13.510,17\n",
    "\tAMZN\t+5.09%\t1.084,00\t390,00\t413,00\n",
    "\tMSFT\t+5.54%\t12.959,50\t10,00\t126,60\n",
    "\tSPY\t+4.65%\t24.632,50\t1,00\t24,06\n",
    "\tAL30\t+3.55%\t39.400,00\t255,00\t98,15\n",
    "\tGD30\t+3.95%\t41.580,00\t200,00\t81,24\n",
    "\"\"\""
   ],
   "metadata": {
    "collapsed": false,
    "ExecuteTime": {
     "end_time": "2024-01-03T20:01:29.743302600Z",
     "start_time": "2024-01-03T20:01:29.727749900Z"
    }
   },
   "id": "be011752f111f6bb"
  },
  {
   "cell_type": "code",
   "execution_count": 3,
   "outputs": [
    {
     "data": {
      "text/plain": "    Nombre Variación diaria Último Operado AR$   Cantidad Tenencia US$\n0      AR$            0.00%               1,00     284,46         0,28\n1  US$ MEP            0.00%           1.023,62  13.510,17    13.510,17\n2     AMZN           +5.09%           1.084,00     390,00       413,00\n3     MSFT           +5.54%          12.959,50      10,00       126,60\n4      SPY           +4.65%          24.632,50       1,00        24,06\n5     AL30           +3.55%          39.400,00     255,00        98,15\n6     GD30           +3.95%          41.580,00     200,00        81,24",
      "text/html": "<div>\n<style scoped>\n    .dataframe tbody tr th:only-of-type {\n        vertical-align: middle;\n    }\n\n    .dataframe tbody tr th {\n        vertical-align: top;\n    }\n\n    .dataframe thead th {\n        text-align: right;\n    }\n</style>\n<table border=\"1\" class=\"dataframe\">\n  <thead>\n    <tr style=\"text-align: right;\">\n      <th></th>\n      <th>Nombre</th>\n      <th>Variación diaria</th>\n      <th>Último Operado AR$</th>\n      <th>Cantidad</th>\n      <th>Tenencia US$</th>\n    </tr>\n  </thead>\n  <tbody>\n    <tr>\n      <th>0</th>\n      <td>AR$</td>\n      <td>0.00%</td>\n      <td>1,00</td>\n      <td>284,46</td>\n      <td>0,28</td>\n    </tr>\n    <tr>\n      <th>1</th>\n      <td>US$ MEP</td>\n      <td>0.00%</td>\n      <td>1.023,62</td>\n      <td>13.510,17</td>\n      <td>13.510,17</td>\n    </tr>\n    <tr>\n      <th>2</th>\n      <td>AMZN</td>\n      <td>+5.09%</td>\n      <td>1.084,00</td>\n      <td>390,00</td>\n      <td>413,00</td>\n    </tr>\n    <tr>\n      <th>3</th>\n      <td>MSFT</td>\n      <td>+5.54%</td>\n      <td>12.959,50</td>\n      <td>10,00</td>\n      <td>126,60</td>\n    </tr>\n    <tr>\n      <th>4</th>\n      <td>SPY</td>\n      <td>+4.65%</td>\n      <td>24.632,50</td>\n      <td>1,00</td>\n      <td>24,06</td>\n    </tr>\n    <tr>\n      <th>5</th>\n      <td>AL30</td>\n      <td>+3.55%</td>\n      <td>39.400,00</td>\n      <td>255,00</td>\n      <td>98,15</td>\n    </tr>\n    <tr>\n      <th>6</th>\n      <td>GD30</td>\n      <td>+3.95%</td>\n      <td>41.580,00</td>\n      <td>200,00</td>\n      <td>81,24</td>\n    </tr>\n  </tbody>\n</table>\n</div>"
     },
     "execution_count": 3,
     "metadata": {},
     "output_type": "execute_result"
    }
   ],
   "source": [
    "data = StringIO(table_txt)\n",
    "df = pd.read_csv(data, delimiter='\\t')\n",
    "df.drop(\"Unnamed: 0\", axis=1, inplace=True)\n",
    "df"
   ],
   "metadata": {
    "collapsed": false,
    "ExecuteTime": {
     "end_time": "2024-01-03T20:01:29.848558600Z",
     "start_time": "2024-01-03T20:01:29.742775800Z"
    }
   },
   "id": "bf1be266fc10c1d6"
  },
  {
   "cell_type": "code",
   "execution_count": 4,
   "outputs": [],
   "source": [
    "def correct_str(input_str):\n",
    "    input_str = input_str.replace(\".\", \"\")\n",
    "    input_str = input_str.replace(\",\", \".\")\n",
    "\n",
    "    input_str = re.sub(\"[^0-9^.]\", \"\", input_str)\n",
    "\n",
    "    if input_str == '':\n",
    "        input_str = 0.0\n",
    "    return float(input_str)"
   ],
   "metadata": {
    "collapsed": false,
    "ExecuteTime": {
     "end_time": "2024-01-03T20:01:29.848558600Z",
     "start_time": "2024-01-03T20:01:29.792432400Z"
    }
   },
   "id": "fbb3278a80e8b91c"
  },
  {
   "cell_type": "code",
   "execution_count": 5,
   "outputs": [],
   "source": [
    "for col in df.columns:\n",
    "    if col != \"Nombre\":\n",
    "        df[col] = df[col].apply(correct_str)"
   ],
   "metadata": {
    "collapsed": false,
    "ExecuteTime": {
     "end_time": "2024-01-03T20:01:29.865771800Z",
     "start_time": "2024-01-03T20:01:29.807388300Z"
    }
   },
   "id": "bb3dc787d044b494"
  },
  {
   "cell_type": "code",
   "execution_count": 6,
   "outputs": [],
   "source": [
    "cedear_data = pd.read_excel(\"data/cedear_ratios_reloaded.xlsx\", sheet_name=0)"
   ],
   "metadata": {
    "collapsed": false,
    "ExecuteTime": {
     "end_time": "2024-01-03T20:01:32.243242Z",
     "start_time": "2024-01-03T20:01:29.838935400Z"
    }
   },
   "id": "d9844c4fe564b9d1"
  },
  {
   "cell_type": "code",
   "execution_count": 7,
   "outputs": [],
   "source": [
    "df2 = df.merge(cedear_data, right_on=\"symbol\", left_on=\"Nombre\", how=\"left\")"
   ],
   "metadata": {
    "collapsed": false,
    "ExecuteTime": {
     "end_time": "2024-01-03T20:01:32.275830300Z",
     "start_time": "2024-01-03T20:01:32.247276400Z"
    }
   },
   "id": "763719fc3392fbd"
  },
  {
   "cell_type": "code",
   "execution_count": 8,
   "outputs": [],
   "source": [
    "def find_price(stock_name):\n",
    "    if stock_name is None:\n",
    "        return 0.0\n",
    "    else:\n",
    "        return yf.download(stock_name, period=\"1d\", interval=\"1d\")[\"Adj Close\"].iloc[0]"
   ],
   "metadata": {
    "collapsed": false,
    "ExecuteTime": {
     "end_time": "2024-01-03T20:01:32.329736400Z",
     "start_time": "2024-01-03T20:01:32.275830300Z"
    }
   },
   "id": "b2d0b36d133e7cda"
  },
  {
   "cell_type": "code",
   "execution_count": 9,
   "outputs": [],
   "source": [
    "df2[\"base_symbol\"] = df2[\"base_symbol\"].astype(str)"
   ],
   "metadata": {
    "collapsed": false,
    "ExecuteTime": {
     "end_time": "2024-01-03T20:01:32.363509700Z",
     "start_time": "2024-01-03T20:01:32.292452700Z"
    }
   },
   "id": "e561bffad668c3a1"
  },
  {
   "cell_type": "code",
   "execution_count": 10,
   "outputs": [
    {
     "name": "stdout",
     "output_type": "stream",
     "text": [
      "[*********************100%%**********************]  1 of 1 completed\n",
      "[*********************100%%**********************]  1 of 1 completed\n",
      "[*********************100%%**********************]  1 of 1 completed\n",
      "[*********************100%%**********************]  1 of 1 completed\n",
      "[*********************100%%**********************]  1 of 1 completed\n",
      "[*********************100%%**********************]  1 of 1 completed\n",
      "[*********************100%%**********************]  1 of 1 completed\n"
     ]
    }
   ],
   "source": [
    "df2[\"base_asset_price\"] = df2[\"base_symbol\"].apply(find_price)"
   ],
   "metadata": {
    "collapsed": false,
    "ExecuteTime": {
     "end_time": "2024-01-03T20:01:41.225853300Z",
     "start_time": "2024-01-03T20:01:32.307477900Z"
    }
   },
   "id": "dda67aa26c74fd9"
  },
  {
   "cell_type": "code",
   "execution_count": 11,
   "outputs": [],
   "source": [
    "df2[\"this_asset_price\"] = df2[\"base_asset_price\"] / df2[\"ratio\"]"
   ],
   "metadata": {
    "collapsed": false,
    "ExecuteTime": {
     "end_time": "2024-01-03T20:01:41.264694800Z",
     "start_time": "2024-01-03T20:01:41.225853300Z"
    }
   },
   "id": "ca5c85c944e817d9"
  },
  {
   "cell_type": "code",
   "execution_count": 12,
   "outputs": [],
   "source": [
    "df2.set_index(\"Nombre\", inplace=True)"
   ],
   "metadata": {
    "collapsed": false,
    "ExecuteTime": {
     "end_time": "2024-01-03T20:01:41.267727600Z",
     "start_time": "2024-01-03T20:01:41.243094600Z"
    }
   },
   "id": "45ee5c2400b94108"
  },
  {
   "cell_type": "code",
   "execution_count": 18,
   "outputs": [],
   "source": [
    "today_str = datetime.date.today().strftime(\"%m/%d/%Y\")\n",
    "ccl_dollar = pd.read_csv(\"data/dolar_ccl_historic.csv\", index_col=0)"
   ],
   "metadata": {
    "collapsed": false,
    "ExecuteTime": {
     "end_time": "2024-01-03T20:02:51.966149900Z",
     "start_time": "2024-01-03T20:02:51.939585Z"
    }
   },
   "id": "e63a968ec25aa176"
  },
  {
   "cell_type": "code",
   "execution_count": 19,
   "outputs": [],
   "source": [
    "df2.loc[\"AR$\",\"this_asset_price\"] = 1 / ccl_dollar.loc[today_str, \"Referencia\"]\n",
    "df2.loc[\"US$ MEP\",\"this_asset_price\"] = 1\n"
   ],
   "metadata": {
    "collapsed": false,
    "ExecuteTime": {
     "end_time": "2024-01-03T20:02:52.534050500Z",
     "start_time": "2024-01-03T20:02:52.505932Z"
    }
   },
   "id": "1c61f0e5307402a9"
  },
  {
   "cell_type": "code",
   "execution_count": null,
   "outputs": [],
   "source": [
    "for index, row in df2.iterrows():\n",
    "    if pd.isna(row[\"this_asset_price\"]):\n",
    "        stock_name = index + \"D.BA\"\n",
    "        try:\n",
    "            price = yf.download(stock_name, period=\"1d\", interval=\"1d\")[\"Adj Close\"].iloc[0]\n",
    "            df2.loc[index,\"this_asset_price\"] = price\n",
    "        except:\n",
    "            pass\n"
   ],
   "metadata": {
    "collapsed": false,
    "ExecuteTime": {
     "start_time": "2024-01-03T20:01:43.265714300Z"
    }
   },
   "id": "4848043c8ddf6f87"
  },
  {
   "cell_type": "code",
   "execution_count": 20,
   "outputs": [
    {
     "data": {
      "text/plain": "         Cantidad  this_asset_price\nNombre                             \nAR$        284.46          0.000974\nUS$ MEP  13510.17          1.000000\nAMZN       390.00          1.034931\nMSFT        10.00         12.387166\nSPY          1.00         23.495000\nAL30       255.00               NaN\nGD30       200.00               NaN",
      "text/html": "<div>\n<style scoped>\n    .dataframe tbody tr th:only-of-type {\n        vertical-align: middle;\n    }\n\n    .dataframe tbody tr th {\n        vertical-align: top;\n    }\n\n    .dataframe thead th {\n        text-align: right;\n    }\n</style>\n<table border=\"1\" class=\"dataframe\">\n  <thead>\n    <tr style=\"text-align: right;\">\n      <th></th>\n      <th>Cantidad</th>\n      <th>this_asset_price</th>\n    </tr>\n    <tr>\n      <th>Nombre</th>\n      <th></th>\n      <th></th>\n    </tr>\n  </thead>\n  <tbody>\n    <tr>\n      <th>AR$</th>\n      <td>284.46</td>\n      <td>0.000974</td>\n    </tr>\n    <tr>\n      <th>US$ MEP</th>\n      <td>13510.17</td>\n      <td>1.000000</td>\n    </tr>\n    <tr>\n      <th>AMZN</th>\n      <td>390.00</td>\n      <td>1.034931</td>\n    </tr>\n    <tr>\n      <th>MSFT</th>\n      <td>10.00</td>\n      <td>12.387166</td>\n    </tr>\n    <tr>\n      <th>SPY</th>\n      <td>1.00</td>\n      <td>23.495000</td>\n    </tr>\n    <tr>\n      <th>AL30</th>\n      <td>255.00</td>\n      <td>NaN</td>\n    </tr>\n    <tr>\n      <th>GD30</th>\n      <td>200.00</td>\n      <td>NaN</td>\n    </tr>\n  </tbody>\n</table>\n</div>"
     },
     "execution_count": 20,
     "metadata": {},
     "output_type": "execute_result"
    }
   ],
   "source": [
    "df2[[\"Cantidad\", \"this_asset_price\"]]\n"
   ],
   "metadata": {
    "collapsed": false,
    "ExecuteTime": {
     "end_time": "2024-01-03T20:02:55.631384Z",
     "start_time": "2024-01-03T20:02:55.581332600Z"
    }
   },
   "id": "f77a55e55ad52866"
  },
  {
   "cell_type": "code",
   "execution_count": null,
   "outputs": [],
   "source": [
    "adsfasdf"
   ],
   "metadata": {
    "collapsed": false,
    "ExecuteTime": {
     "start_time": "2024-01-03T20:01:43.273294800Z"
    }
   },
   "id": "bf311457ed6a3dc7"
  },
  {
   "cell_type": "code",
   "execution_count": null,
   "outputs": [],
   "source": [
    "t =\"\"\"\n",
    "DIA\tCompra\tUS$ 18,25\t38\tUS$ 693,50\t48hs\tEjecutada\n",
    "AAPL\tCompra\tUS$ 19,30\t37\tUS$ 714,10\t48hs\tEjecutada\n",
    "DIA\tCompra\tUS$ 18,20\t52\tUS$ 946,40\t48hs\tEjecutada\n",
    "DIA\tCompra\tUS$ 18,20\t2\tUS$ 36,40\t48hs\tEjecutada\n",
    "AAPL\tVenta\tUS$ 19,55\t84\tUS$ 1.642,20\t48hs\tEjecutada\n",
    "DIA\tVenta\tUS$ 18,70\t54\tUS$ 0,00\t48hs\tCancelada\n",
    "AMZN\tVenta\tUS$ 1,05\t724\tUS$ 760,20\t48hs\tEjecutada\n",
    "SPY\tVenta\tUS$ 23,70\t415\tUS$ 0,00\t48hs\tCancelada\n",
    "AMZN\tVenta\tUS$ 1,05\t724\tUS$ 0,00\t48hs\tCancelada\n",
    "AMZN\tCompra\tUS$ 1,03\t29\tUS$ 29,87\t48hs\tEjecutada\n",
    "NVDA\tVenta\tUS$ 20,70\t1\tUS$ 20,70\t48hs\tEjecutada\n",
    "SPY\tCompra\tUS$ 23,35\t10\tUS$ 233,50\t48hs\tEjecutada\n",
    "NVDA\tCompra\tUS$ 20,45\t9\tUS$ 0,00\t48hs\tCancelada\n",
    "NVDA\tCompra\tUS$ 20,45\t1\tUS$ 20,45\t48hs\tEjecutada\n",
    "NVDA\tVenta\tUS$ 20,65\t12\tUS$ 247,80\t48hs\tEjecutada\n",
    "NVDA\tCompra\tUS$ 20,45\t9\tUS$ 184,05\t48hs\tEjecutada\n",
    "NVDA\tVenta\tUS$ 20,65\t2\tUS$ 0,00\t48hs\tCancelada\n",
    "NVDA\tVenta\tUS$ 20,65\t1\tUS$ 20,65\t48hs\tEjecutada\n",
    "NVDA\tCompra\tUS$ 20,45\t4\tUS$ 81,80\t48hs\tEjecutada\n",
    "SPY\tCompra\tUS$ 23,35\t1\tUS$ 23,35\t48hs\tEjecutada\n",
    "NVDA\tVenta\tUS$ 20,65\t6\tUS$ 123,90\t48hs\tEjecutada\n",
    "AMZN\tCompra\tUS$ 1,02\t156\tUS$ 0,00\t48hs\tCancelada\n",
    "AMZN\tCompra\tUS$ 1,02\t15\tUS$ 15,30\tCI\tEjecutada\n",
    "NVDA\tVenta\tUS$ 20,90\t6\tUS$ 0,00\t48hs\tCancelada\n",
    "SPY\tVenta\tUS$ 23,55\t123\tUS$ 0,00\tCI\tCancelada\n",
    "SPY\tCompra\tUS$ 23,35\t33\tUS$ 770,55\t48hs\tEjecutada\n",
    "SPY\tCompra\tUS$ 23,35\t2\tUS$ 46,70\t48hs\tEjecutada\n",
    "SPY\tCompra\tUS$ 23,35\t2\tUS$ 46,70\t48hs\tEjecutada\n",
    "SPY\tCompra\tUS$ 23,20\t10\tUS$ 0,00\tCI\tCancelada\n",
    "CVX\tVenta\tUS$ 19,00\t2\tUS$ 38,00\t48hs\tEjecutada\n",
    "SPY\tVenta\tUS$ 23,75\t91\tUS$ 0,00\tCI\tCancelada\n",
    "AAPL\tVenta\tUS$ 19,80\t84\tUS$ 0,00\t48hs\tCancelada\n",
    "SPY\tVenta\tUS$ 23,75\t214\tUS$ 0,00\t48hs\tCancelada\n",
    "SPY\tCompra\tUS$ 23,40\t260\tUS$ 6.084,00\t48hs\tEjecutada\n",
    "AMZN\tVenta\tUS$ 1,04\t205\tUS$ 213,20\tCI\tEjecutada\n",
    "DIA\tVenta\tUS$ 18,80\t54\tUS$ 0,00\t48hs\tCancelada\n",
    "SPY\tVenta\tUS$ 23,80\t132\tUS$ 3.141,60\t48hs\tEjecutada\n",
    "CVX\tVenta\tUS$ 19,90\t2\tUS$ 0,00\t48hs\tCancelada\n",
    "SPY\tCompra\tUS$ 23,30\t63\tUS$ 1.467,90\tCI\tEjecutada\n",
    "\"\"\""
   ],
   "metadata": {
    "collapsed": false,
    "ExecuteTime": {
     "start_time": "2024-01-03T20:01:43.273294800Z"
    }
   },
   "id": "a783ffcbe375d503"
  },
  {
   "cell_type": "code",
   "execution_count": null,
   "outputs": [],
   "source": [
    "data = StringIO(t)\n",
    "df = pd.read_csv(data, delimiter='\\t', header=None)\n",
    "df"
   ],
   "metadata": {
    "collapsed": false,
    "ExecuteTime": {
     "end_time": "2024-01-03T20:01:43.280112200Z",
     "start_time": "2024-01-03T20:01:43.280112200Z"
    }
   },
   "id": "43f308dd234f5665"
  },
  {
   "cell_type": "code",
   "execution_count": null,
   "outputs": [],
   "source": [
    "df.columns = [\"Especie\", \"Operación\",   \"Precio\",  \"Cantidad\",    \"Total operación\",   \"Plazo\",   \"Estado\"]"
   ],
   "metadata": {
    "collapsed": false,
    "ExecuteTime": {
     "end_time": "2024-01-03T20:01:43.283176300Z",
     "start_time": "2024-01-03T20:01:43.283176300Z"
    }
   },
   "id": "25f54f8c95ae1b36"
  },
  {
   "cell_type": "code",
   "execution_count": null,
   "outputs": [],
   "source": [
    "replacement_mapping = {'Compra': 1, 'Venta': -1}\n",
    "df['Operación'] = df['Operación'].replace(replacement_mapping)"
   ],
   "metadata": {
    "collapsed": false,
    "ExecuteTime": {
     "end_time": "2024-01-03T20:01:43.285455300Z",
     "start_time": "2024-01-03T20:01:43.285455300Z"
    }
   },
   "id": "c8c2d3d7cdb33437"
  },
  {
   "cell_type": "code",
   "execution_count": null,
   "outputs": [],
   "source": [
    "df[\"Tot\"] = df['Operación'] * df['Cantidad']"
   ],
   "metadata": {
    "collapsed": false,
    "ExecuteTime": {
     "start_time": "2024-01-03T20:01:43.285455300Z"
    }
   },
   "id": "271dfb245df8c0f0"
  },
  {
   "cell_type": "code",
   "execution_count": null,
   "outputs": [],
   "source": [
    "df[df[\"Estado\"] == \"Ejecutada\"].groupby(\"Especie\").agg({\"Tot\": \"sum\"})"
   ],
   "metadata": {
    "collapsed": false,
    "ExecuteTime": {
     "end_time": "2024-01-03T20:01:43.293515Z",
     "start_time": "2024-01-03T20:01:43.292484900Z"
    }
   },
   "id": "d0f2eaafe20da1bd"
  },
  {
   "cell_type": "code",
   "execution_count": null,
   "outputs": [],
   "source": [
    "df.dtypes"
   ],
   "metadata": {
    "collapsed": false,
    "ExecuteTime": {
     "start_time": "2024-01-03T20:01:43.293515Z"
    }
   },
   "id": "12f386b5a912d7dd"
  }
 ],
 "metadata": {
  "kernelspec": {
   "display_name": "Python 3",
   "language": "python",
   "name": "python3"
  },
  "language_info": {
   "codemirror_mode": {
    "name": "ipython",
    "version": 2
   },
   "file_extension": ".py",
   "mimetype": "text/x-python",
   "name": "python",
   "nbconvert_exporter": "python",
   "pygments_lexer": "ipython2",
   "version": "2.7.6"
  }
 },
 "nbformat": 4,
 "nbformat_minor": 5
}
